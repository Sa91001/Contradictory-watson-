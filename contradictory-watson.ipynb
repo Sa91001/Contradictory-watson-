{
 "cells": [
  {
   "cell_type": "code",
   "execution_count": 1,
   "id": "4a15d5f1",
   "metadata": {
    "execution": {
     "iopub.execute_input": "2022-12-22T04:29:06.813319Z",
     "iopub.status.busy": "2022-12-22T04:29:06.811749Z",
     "iopub.status.idle": "2022-12-22T04:29:07.028226Z",
     "shell.execute_reply": "2022-12-22T04:29:07.027608Z",
     "shell.execute_reply.started": "2022-12-22T04:17:54.324527Z"
    },
    "papermill": {
     "duration": 0.251918,
     "end_time": "2022-12-22T04:29:07.028408",
     "exception": false,
     "start_time": "2022-12-22T04:29:06.776490",
     "status": "completed"
    },
    "tags": []
   },
   "outputs": [],
   "source": [
    "import pandas as pd\n",
    "import numpy as np\n",
    "train_df=pd.read_csv('../input/contradictory-my-dear-watson/train.csv')\n",
    "test_df=pd.read_csv('../input/contradictory-my-dear-watson/test.csv')\n",
    "sub_df=pd.read_csv('../input/contradictory-my-dear-watson/sample_submission.csv')"
   ]
  },
  {
   "cell_type": "code",
   "execution_count": 2,
   "id": "b061efc2",
   "metadata": {
    "execution": {
     "iopub.execute_input": "2022-12-22T04:29:07.092939Z",
     "iopub.status.busy": "2022-12-22T04:29:07.092146Z",
     "iopub.status.idle": "2022-12-22T04:29:07.105937Z",
     "shell.execute_reply": "2022-12-22T04:29:07.106377Z",
     "shell.execute_reply.started": "2022-12-22T04:17:54.568563Z"
    },
    "papermill": {
     "duration": 0.04895,
     "end_time": "2022-12-22T04:29:07.106519",
     "exception": false,
     "start_time": "2022-12-22T04:29:07.057569",
     "status": "completed"
    },
    "tags": []
   },
   "outputs": [
    {
     "data": {
      "text/html": [
       "<div>\n",
       "<style scoped>\n",
       "    .dataframe tbody tr th:only-of-type {\n",
       "        vertical-align: middle;\n",
       "    }\n",
       "\n",
       "    .dataframe tbody tr th {\n",
       "        vertical-align: top;\n",
       "    }\n",
       "\n",
       "    .dataframe thead th {\n",
       "        text-align: right;\n",
       "    }\n",
       "</style>\n",
       "<table border=\"1\" class=\"dataframe\">\n",
       "  <thead>\n",
       "    <tr style=\"text-align: right;\">\n",
       "      <th></th>\n",
       "      <th>id</th>\n",
       "      <th>premise</th>\n",
       "      <th>hypothesis</th>\n",
       "      <th>lang_abv</th>\n",
       "      <th>language</th>\n",
       "      <th>label</th>\n",
       "    </tr>\n",
       "  </thead>\n",
       "  <tbody>\n",
       "    <tr>\n",
       "      <th>0</th>\n",
       "      <td>5130fd2cb5</td>\n",
       "      <td>and these comments were considered in formulat...</td>\n",
       "      <td>The rules developed in the interim were put to...</td>\n",
       "      <td>en</td>\n",
       "      <td>English</td>\n",
       "      <td>0</td>\n",
       "    </tr>\n",
       "    <tr>\n",
       "      <th>1</th>\n",
       "      <td>5b72532a0b</td>\n",
       "      <td>These are issues that we wrestle with in pract...</td>\n",
       "      <td>Practice groups are not permitted to work on t...</td>\n",
       "      <td>en</td>\n",
       "      <td>English</td>\n",
       "      <td>2</td>\n",
       "    </tr>\n",
       "    <tr>\n",
       "      <th>2</th>\n",
       "      <td>3931fbe82a</td>\n",
       "      <td>Des petites choses comme celles-là font une di...</td>\n",
       "      <td>J'essayais d'accomplir quelque chose.</td>\n",
       "      <td>fr</td>\n",
       "      <td>French</td>\n",
       "      <td>0</td>\n",
       "    </tr>\n",
       "    <tr>\n",
       "      <th>3</th>\n",
       "      <td>5622f0c60b</td>\n",
       "      <td>you know they can't really defend themselves l...</td>\n",
       "      <td>They can't defend themselves because of their ...</td>\n",
       "      <td>en</td>\n",
       "      <td>English</td>\n",
       "      <td>0</td>\n",
       "    </tr>\n",
       "    <tr>\n",
       "      <th>4</th>\n",
       "      <td>86aaa48b45</td>\n",
       "      <td>ในการเล่นบทบาทสมมุติก็เช่นกัน โอกาสที่จะได้แสด...</td>\n",
       "      <td>เด็กสามารถเห็นได้ว่าชาติพันธุ์แตกต่างกันอย่างไร</td>\n",
       "      <td>th</td>\n",
       "      <td>Thai</td>\n",
       "      <td>1</td>\n",
       "    </tr>\n",
       "  </tbody>\n",
       "</table>\n",
       "</div>"
      ],
      "text/plain": [
       "           id                                            premise  \\\n",
       "0  5130fd2cb5  and these comments were considered in formulat...   \n",
       "1  5b72532a0b  These are issues that we wrestle with in pract...   \n",
       "2  3931fbe82a  Des petites choses comme celles-là font une di...   \n",
       "3  5622f0c60b  you know they can't really defend themselves l...   \n",
       "4  86aaa48b45  ในการเล่นบทบาทสมมุติก็เช่นกัน โอกาสที่จะได้แสด...   \n",
       "\n",
       "                                          hypothesis lang_abv language  label  \n",
       "0  The rules developed in the interim were put to...       en  English      0  \n",
       "1  Practice groups are not permitted to work on t...       en  English      2  \n",
       "2              J'essayais d'accomplir quelque chose.       fr   French      0  \n",
       "3  They can't defend themselves because of their ...       en  English      0  \n",
       "4    เด็กสามารถเห็นได้ว่าชาติพันธุ์แตกต่างกันอย่างไร       th     Thai      1  "
      ]
     },
     "execution_count": 2,
     "metadata": {},
     "output_type": "execute_result"
    }
   ],
   "source": [
    "train_df.head()"
   ]
  },
  {
   "cell_type": "code",
   "execution_count": 3,
   "id": "ac103ec1",
   "metadata": {
    "execution": {
     "iopub.execute_input": "2022-12-22T04:29:07.167403Z",
     "iopub.status.busy": "2022-12-22T04:29:07.166669Z",
     "iopub.status.idle": "2022-12-22T04:29:07.169332Z",
     "shell.execute_reply": "2022-12-22T04:29:07.169837Z",
     "shell.execute_reply.started": "2022-12-22T04:17:54.594072Z"
    },
    "papermill": {
     "duration": 0.034858,
     "end_time": "2022-12-22T04:29:07.169994",
     "exception": false,
     "start_time": "2022-12-22T04:29:07.135136",
     "status": "completed"
    },
    "tags": []
   },
   "outputs": [
    {
     "data": {
      "text/plain": [
       "(12120, 6)"
      ]
     },
     "execution_count": 3,
     "metadata": {},
     "output_type": "execute_result"
    }
   ],
   "source": [
    "train_df.shape"
   ]
  },
  {
   "cell_type": "code",
   "execution_count": 4,
   "id": "9f11afb8",
   "metadata": {
    "execution": {
     "iopub.execute_input": "2022-12-22T04:29:07.228807Z",
     "iopub.status.busy": "2022-12-22T04:29:07.228029Z",
     "iopub.status.idle": "2022-12-22T04:29:07.233272Z",
     "shell.execute_reply": "2022-12-22T04:29:07.233653Z",
     "shell.execute_reply.started": "2022-12-22T04:17:54.602669Z"
    },
    "papermill": {
     "duration": 0.03575,
     "end_time": "2022-12-22T04:29:07.233778",
     "exception": false,
     "start_time": "2022-12-22T04:29:07.198028",
     "status": "completed"
    },
    "tags": []
   },
   "outputs": [
    {
     "data": {
      "text/plain": [
       "'Practice groups are not permitted to work on these issues.'"
      ]
     },
     "execution_count": 4,
     "metadata": {},
     "output_type": "execute_result"
    }
   ],
   "source": [
    "train_df['hypothesis'][1]"
   ]
  },
  {
   "cell_type": "code",
   "execution_count": 5,
   "id": "0edd3941",
   "metadata": {
    "execution": {
     "iopub.execute_input": "2022-12-22T04:29:07.292287Z",
     "iopub.status.busy": "2022-12-22T04:29:07.291479Z",
     "iopub.status.idle": "2022-12-22T04:29:07.296780Z",
     "shell.execute_reply": "2022-12-22T04:29:07.297233Z",
     "shell.execute_reply.started": "2022-12-22T04:17:54.612991Z"
    },
    "papermill": {
     "duration": 0.035863,
     "end_time": "2022-12-22T04:29:07.297359",
     "exception": false,
     "start_time": "2022-12-22T04:29:07.261496",
     "status": "completed"
    },
    "tags": []
   },
   "outputs": [
    {
     "data": {
      "text/plain": [
       "'These are issues that we wrestle with in practice groups of law firms, she said. '"
      ]
     },
     "execution_count": 5,
     "metadata": {},
     "output_type": "execute_result"
    }
   ],
   "source": [
    "train_df['premise'][1]"
   ]
  },
  {
   "cell_type": "code",
   "execution_count": 6,
   "id": "651e5983",
   "metadata": {
    "execution": {
     "iopub.execute_input": "2022-12-22T04:29:07.358832Z",
     "iopub.status.busy": "2022-12-22T04:29:07.355863Z",
     "iopub.status.idle": "2022-12-22T04:29:07.375666Z",
     "shell.execute_reply": "2022-12-22T04:29:07.375172Z",
     "shell.execute_reply.started": "2022-12-22T04:17:54.623326Z"
    },
    "papermill": {
     "duration": 0.050672,
     "end_time": "2022-12-22T04:29:07.375787",
     "exception": false,
     "start_time": "2022-12-22T04:29:07.325115",
     "status": "completed"
    },
    "tags": []
   },
   "outputs": [
    {
     "data": {
      "text/plain": [
       "English       0.566832\n",
       "Chinese       0.033911\n",
       "Arabic        0.033086\n",
       "French        0.032178\n",
       "Swahili       0.031766\n",
       "Urdu          0.031436\n",
       "Vietnamese    0.031271\n",
       "Russian       0.031023\n",
       "Hindi         0.030858\n",
       "Greek         0.030693\n",
       "Thai          0.030611\n",
       "Spanish       0.030198\n",
       "German        0.028960\n",
       "Turkish       0.028960\n",
       "Bulgarian     0.028218\n",
       "Name: language, dtype: float64"
      ]
     },
     "execution_count": 6,
     "metadata": {},
     "output_type": "execute_result"
    }
   ],
   "source": [
    "train_df['language'].value_counts(normalize=True)"
   ]
  },
  {
   "cell_type": "code",
   "execution_count": 7,
   "id": "0322a0b1",
   "metadata": {
    "execution": {
     "iopub.execute_input": "2022-12-22T04:29:07.442374Z",
     "iopub.status.busy": "2022-12-22T04:29:07.441671Z",
     "iopub.status.idle": "2022-12-22T04:29:07.444386Z",
     "shell.execute_reply": "2022-12-22T04:29:07.444920Z",
     "shell.execute_reply.started": "2022-12-22T04:17:54.658771Z"
    },
    "papermill": {
     "duration": 0.040104,
     "end_time": "2022-12-22T04:29:07.445049",
     "exception": false,
     "start_time": "2022-12-22T04:29:07.404945",
     "status": "completed"
    },
    "tags": []
   },
   "outputs": [
    {
     "data": {
      "text/html": [
       "<div>\n",
       "<style scoped>\n",
       "    .dataframe tbody tr th:only-of-type {\n",
       "        vertical-align: middle;\n",
       "    }\n",
       "\n",
       "    .dataframe tbody tr th {\n",
       "        vertical-align: top;\n",
       "    }\n",
       "\n",
       "    .dataframe thead th {\n",
       "        text-align: right;\n",
       "    }\n",
       "</style>\n",
       "<table border=\"1\" class=\"dataframe\">\n",
       "  <thead>\n",
       "    <tr style=\"text-align: right;\">\n",
       "      <th></th>\n",
       "      <th>id</th>\n",
       "      <th>premise</th>\n",
       "      <th>hypothesis</th>\n",
       "      <th>lang_abv</th>\n",
       "      <th>language</th>\n",
       "      <th>label</th>\n",
       "    </tr>\n",
       "  </thead>\n",
       "  <tbody>\n",
       "  </tbody>\n",
       "</table>\n",
       "</div>"
      ],
      "text/plain": [
       "Empty DataFrame\n",
       "Columns: [id, premise, hypothesis, lang_abv, language, label]\n",
       "Index: []"
      ]
     },
     "execution_count": 7,
     "metadata": {},
     "output_type": "execute_result"
    }
   ],
   "source": [
    "train_df[train_df['language']=='Bengali']"
   ]
  },
  {
   "cell_type": "code",
   "execution_count": 8,
   "id": "253e019c",
   "metadata": {
    "execution": {
     "iopub.execute_input": "2022-12-22T04:29:07.506630Z",
     "iopub.status.busy": "2022-12-22T04:29:07.505730Z",
     "iopub.status.idle": "2022-12-22T04:29:07.511602Z",
     "shell.execute_reply": "2022-12-22T04:29:07.512026Z",
     "shell.execute_reply.started": "2022-12-22T04:17:54.673019Z"
    },
    "papermill": {
     "duration": 0.038447,
     "end_time": "2022-12-22T04:29:07.512147",
     "exception": false,
     "start_time": "2022-12-22T04:29:07.473700",
     "status": "completed"
    },
    "tags": []
   },
   "outputs": [
    {
     "data": {
      "text/plain": [
       "0    4176\n",
       "2    4064\n",
       "1    3880\n",
       "Name: label, dtype: int64"
      ]
     },
     "execution_count": 8,
     "metadata": {},
     "output_type": "execute_result"
    }
   ],
   "source": [
    "train_df['label'].value_counts()"
   ]
  },
  {
   "cell_type": "code",
   "execution_count": 9,
   "id": "3287796b",
   "metadata": {
    "execution": {
     "iopub.execute_input": "2022-12-22T04:29:07.574720Z",
     "iopub.status.busy": "2022-12-22T04:29:07.574065Z",
     "iopub.status.idle": "2022-12-22T04:29:07.576713Z",
     "shell.execute_reply": "2022-12-22T04:29:07.577163Z",
     "shell.execute_reply.started": "2022-12-22T04:17:54.683755Z"
    },
    "papermill": {
     "duration": 0.035705,
     "end_time": "2022-12-22T04:29:07.577301",
     "exception": false,
     "start_time": "2022-12-22T04:29:07.541596",
     "status": "completed"
    },
    "tags": []
   },
   "outputs": [
    {
     "data": {
      "text/plain": [
       "'and these comments were considered in formulating the interim rules.'"
      ]
     },
     "execution_count": 9,
     "metadata": {},
     "output_type": "execute_result"
    }
   ],
   "source": [
    "train_df['premise'][0]"
   ]
  },
  {
   "cell_type": "code",
   "execution_count": 10,
   "id": "cb65fef1",
   "metadata": {
    "execution": {
     "iopub.execute_input": "2022-12-22T04:29:07.640232Z",
     "iopub.status.busy": "2022-12-22T04:29:07.639395Z",
     "iopub.status.idle": "2022-12-22T04:29:07.642547Z",
     "shell.execute_reply": "2022-12-22T04:29:07.642956Z",
     "shell.execute_reply.started": "2022-12-22T04:17:54.694041Z"
    },
    "papermill": {
     "duration": 0.03631,
     "end_time": "2022-12-22T04:29:07.643076",
     "exception": false,
     "start_time": "2022-12-22T04:29:07.606766",
     "status": "completed"
    },
    "tags": []
   },
   "outputs": [
    {
     "data": {
      "text/plain": [
       "'The rules developed in the interim were put together with these comments in mind.'"
      ]
     },
     "execution_count": 10,
     "metadata": {},
     "output_type": "execute_result"
    }
   ],
   "source": [
    "train_df['hypothesis'][0]"
   ]
  },
  {
   "cell_type": "code",
   "execution_count": 11,
   "id": "cf552763",
   "metadata": {
    "execution": {
     "iopub.execute_input": "2022-12-22T04:29:07.711131Z",
     "iopub.status.busy": "2022-12-22T04:29:07.710470Z",
     "iopub.status.idle": "2022-12-22T04:29:07.713186Z",
     "shell.execute_reply": "2022-12-22T04:29:07.713643Z",
     "shell.execute_reply.started": "2022-12-22T04:17:54.703311Z"
    },
    "papermill": {
     "duration": 0.041446,
     "end_time": "2022-12-22T04:29:07.713760",
     "exception": false,
     "start_time": "2022-12-22T04:29:07.672314",
     "status": "completed"
    },
    "tags": []
   },
   "outputs": [
    {
     "data": {
      "text/html": [
       "<div>\n",
       "<style scoped>\n",
       "    .dataframe tbody tr th:only-of-type {\n",
       "        vertical-align: middle;\n",
       "    }\n",
       "\n",
       "    .dataframe tbody tr th {\n",
       "        vertical-align: top;\n",
       "    }\n",
       "\n",
       "    .dataframe thead th {\n",
       "        text-align: right;\n",
       "    }\n",
       "</style>\n",
       "<table border=\"1\" class=\"dataframe\">\n",
       "  <thead>\n",
       "    <tr style=\"text-align: right;\">\n",
       "      <th></th>\n",
       "      <th>id</th>\n",
       "      <th>premise</th>\n",
       "      <th>hypothesis</th>\n",
       "      <th>lang_abv</th>\n",
       "      <th>language</th>\n",
       "    </tr>\n",
       "  </thead>\n",
       "  <tbody>\n",
       "    <tr>\n",
       "      <th>0</th>\n",
       "      <td>c6d58c3f69</td>\n",
       "      <td>بکس، کیسی، راہیل، یسعیاہ، کیلی، کیلی، اور کولم...</td>\n",
       "      <td>کیسی کے لئے کوئی یادگار نہیں ہوگا, کولمین ہائی...</td>\n",
       "      <td>ur</td>\n",
       "      <td>Urdu</td>\n",
       "    </tr>\n",
       "    <tr>\n",
       "      <th>1</th>\n",
       "      <td>cefcc82292</td>\n",
       "      <td>هذا هو ما تم نصحنا به.</td>\n",
       "      <td>عندما يتم إخبارهم بما يجب عليهم فعله ، فشلت ال...</td>\n",
       "      <td>ar</td>\n",
       "      <td>Arabic</td>\n",
       "    </tr>\n",
       "    <tr>\n",
       "      <th>2</th>\n",
       "      <td>e98005252c</td>\n",
       "      <td>et cela est en grande partie dû au fait que le...</td>\n",
       "      <td>Les mères se droguent.</td>\n",
       "      <td>fr</td>\n",
       "      <td>French</td>\n",
       "    </tr>\n",
       "    <tr>\n",
       "      <th>3</th>\n",
       "      <td>58518c10ba</td>\n",
       "      <td>与城市及其他公民及社区组织代表就IMA的艺术发展进行对话&amp;amp</td>\n",
       "      <td>IMA与其他组织合作，因为它们都依靠共享资金。</td>\n",
       "      <td>zh</td>\n",
       "      <td>Chinese</td>\n",
       "    </tr>\n",
       "    <tr>\n",
       "      <th>4</th>\n",
       "      <td>c32b0d16df</td>\n",
       "      <td>Она все еще была там.</td>\n",
       "      <td>Мы думали, что она ушла, однако, она осталась.</td>\n",
       "      <td>ru</td>\n",
       "      <td>Russian</td>\n",
       "    </tr>\n",
       "  </tbody>\n",
       "</table>\n",
       "</div>"
      ],
      "text/plain": [
       "           id                                            premise  \\\n",
       "0  c6d58c3f69  بکس، کیسی، راہیل، یسعیاہ، کیلی، کیلی، اور کولم...   \n",
       "1  cefcc82292                             هذا هو ما تم نصحنا به.   \n",
       "2  e98005252c  et cela est en grande partie dû au fait que le...   \n",
       "3  58518c10ba                   与城市及其他公民及社区组织代表就IMA的艺术发展进行对话&amp   \n",
       "4  c32b0d16df                              Она все еще была там.   \n",
       "\n",
       "                                          hypothesis lang_abv language  \n",
       "0  کیسی کے لئے کوئی یادگار نہیں ہوگا, کولمین ہائی...       ur     Urdu  \n",
       "1  عندما يتم إخبارهم بما يجب عليهم فعله ، فشلت ال...       ar   Arabic  \n",
       "2                             Les mères se droguent.       fr   French  \n",
       "3                            IMA与其他组织合作，因为它们都依靠共享资金。       zh  Chinese  \n",
       "4     Мы думали, что она ушла, однако, она осталась.       ru  Russian  "
      ]
     },
     "execution_count": 11,
     "metadata": {},
     "output_type": "execute_result"
    }
   ],
   "source": [
    "test_df.head()"
   ]
  },
  {
   "cell_type": "code",
   "execution_count": 12,
   "id": "8f2a84a1",
   "metadata": {
    "execution": {
     "iopub.execute_input": "2022-12-22T04:29:07.776619Z",
     "iopub.status.busy": "2022-12-22T04:29:07.775958Z",
     "iopub.status.idle": "2022-12-22T04:29:07.778584Z",
     "shell.execute_reply": "2022-12-22T04:29:07.779027Z",
     "shell.execute_reply.started": "2022-12-22T04:17:54.718363Z"
    },
    "papermill": {
     "duration": 0.036168,
     "end_time": "2022-12-22T04:29:07.779145",
     "exception": false,
     "start_time": "2022-12-22T04:29:07.742977",
     "status": "completed"
    },
    "tags": []
   },
   "outputs": [
    {
     "data": {
      "text/plain": [
       "(5195, 5)"
      ]
     },
     "execution_count": 12,
     "metadata": {},
     "output_type": "execute_result"
    }
   ],
   "source": [
    "test_df.shape"
   ]
  },
  {
   "cell_type": "code",
   "execution_count": 13,
   "id": "09a0e6c6",
   "metadata": {
    "execution": {
     "iopub.execute_input": "2022-12-22T04:29:07.847458Z",
     "iopub.status.busy": "2022-12-22T04:29:07.846651Z",
     "iopub.status.idle": "2022-12-22T04:29:07.850091Z",
     "shell.execute_reply": "2022-12-22T04:29:07.849694Z",
     "shell.execute_reply.started": "2022-12-22T04:17:54.731257Z"
    },
    "papermill": {
     "duration": 0.040897,
     "end_time": "2022-12-22T04:29:07.850217",
     "exception": false,
     "start_time": "2022-12-22T04:29:07.809320",
     "status": "completed"
    },
    "tags": []
   },
   "outputs": [
    {
     "data": {
      "text/plain": [
       "id            0\n",
       "premise       0\n",
       "hypothesis    0\n",
       "lang_abv      0\n",
       "language      0\n",
       "label         0\n",
       "dtype: int64"
      ]
     },
     "execution_count": 13,
     "metadata": {},
     "output_type": "execute_result"
    }
   ],
   "source": [
    "train_df.isnull().sum()"
   ]
  },
  {
   "cell_type": "code",
   "execution_count": 14,
   "id": "61a5be5e",
   "metadata": {
    "execution": {
     "iopub.execute_input": "2022-12-22T04:29:07.920136Z",
     "iopub.status.busy": "2022-12-22T04:29:07.919398Z",
     "iopub.status.idle": "2022-12-22T04:29:07.923660Z",
     "shell.execute_reply": "2022-12-22T04:29:07.924057Z",
     "shell.execute_reply.started": "2022-12-22T04:17:54.746254Z"
    },
    "papermill": {
     "duration": 0.04391,
     "end_time": "2022-12-22T04:29:07.924177",
     "exception": false,
     "start_time": "2022-12-22T04:29:07.880267",
     "status": "completed"
    },
    "tags": []
   },
   "outputs": [],
   "source": [
    "train_data = train_df[['premise', 'hypothesis']].values.tolist()\n",
    "test_data = test_df[['premise', 'hypothesis']].values.tolist()"
   ]
  },
  {
   "cell_type": "code",
   "execution_count": 15,
   "id": "dea08e2f",
   "metadata": {
    "execution": {
     "iopub.execute_input": "2022-12-22T04:29:07.990390Z",
     "iopub.status.busy": "2022-12-22T04:29:07.989715Z",
     "iopub.status.idle": "2022-12-22T04:30:02.765638Z",
     "shell.execute_reply": "2022-12-22T04:30:02.766364Z",
     "shell.execute_reply.started": "2022-12-22T04:17:54.763121Z"
    },
    "papermill": {
     "duration": 54.810175,
     "end_time": "2022-12-22T04:30:02.766581",
     "exception": false,
     "start_time": "2022-12-22T04:29:07.956406",
     "status": "completed"
    },
    "tags": []
   },
   "outputs": [
    {
     "name": "stderr",
     "output_type": "stream",
     "text": [
      "2022-12-22 04:29:08.840636: I tensorflow/stream_executor/platform/default/dso_loader.cc:49] Successfully opened dynamic library libcudart.so.11.0\n"
     ]
    },
    {
     "data": {
      "application/vnd.jupyter.widget-view+json": {
       "model_id": "0324b43834b240eaa581b578d969e66d",
       "version_major": 2,
       "version_minor": 0
      },
      "text/plain": [
       "Downloading:   0%|          | 0.00/872k [00:00<?, ?B/s]"
      ]
     },
     "metadata": {},
     "output_type": "display_data"
    },
    {
     "data": {
      "application/vnd.jupyter.widget-view+json": {
       "model_id": "4066771bd04946438cc07f4388aebe64",
       "version_major": 2,
       "version_minor": 0
      },
      "text/plain": [
       "Downloading:   0%|          | 0.00/28.0 [00:00<?, ?B/s]"
      ]
     },
     "metadata": {},
     "output_type": "display_data"
    },
    {
     "data": {
      "application/vnd.jupyter.widget-view+json": {
       "model_id": "6891959f3de74d6ebdaf0f380fc037f5",
       "version_major": 2,
       "version_minor": 0
      },
      "text/plain": [
       "Downloading:   0%|          | 0.00/1.72M [00:00<?, ?B/s]"
      ]
     },
     "metadata": {},
     "output_type": "display_data"
    },
    {
     "data": {
      "application/vnd.jupyter.widget-view+json": {
       "model_id": "fc89e8fb092b4f7e98e260df9e4223a3",
       "version_major": 2,
       "version_minor": 0
      },
      "text/plain": [
       "Downloading:   0%|          | 0.00/625 [00:00<?, ?B/s]"
      ]
     },
     "metadata": {},
     "output_type": "display_data"
    },
    {
     "data": {
      "application/vnd.jupyter.widget-view+json": {
       "model_id": "ea5805eea6724f87af80c33862f0a7e8",
       "version_major": 2,
       "version_minor": 0
      },
      "text/plain": [
       "Downloading:   0%|          | 0.00/999M [00:00<?, ?B/s]"
      ]
     },
     "metadata": {},
     "output_type": "display_data"
    },
    {
     "name": "stderr",
     "output_type": "stream",
     "text": [
      "2022-12-22 04:29:54.030580: I tensorflow/compiler/jit/xla_cpu_device.cc:41] Not creating XLA devices, tf_xla_enable_xla_devices not set\n",
      "2022-12-22 04:29:54.033411: I tensorflow/stream_executor/platform/default/dso_loader.cc:49] Successfully opened dynamic library libcuda.so.1\n",
      "2022-12-22 04:29:54.090214: I tensorflow/stream_executor/cuda/cuda_gpu_executor.cc:941] successful NUMA node read from SysFS had negative value (-1), but there must be at least one NUMA node, so returning NUMA node zero\n",
      "2022-12-22 04:29:54.090895: I tensorflow/core/common_runtime/gpu/gpu_device.cc:1720] Found device 0 with properties: \n",
      "pciBusID: 0000:00:04.0 name: Tesla P100-PCIE-16GB computeCapability: 6.0\n",
      "coreClock: 1.3285GHz coreCount: 56 deviceMemorySize: 15.90GiB deviceMemoryBandwidth: 681.88GiB/s\n",
      "2022-12-22 04:29:54.090963: I tensorflow/stream_executor/platform/default/dso_loader.cc:49] Successfully opened dynamic library libcudart.so.11.0\n",
      "2022-12-22 04:29:54.117219: I tensorflow/stream_executor/platform/default/dso_loader.cc:49] Successfully opened dynamic library libcublas.so.11\n",
      "2022-12-22 04:29:54.117338: I tensorflow/stream_executor/platform/default/dso_loader.cc:49] Successfully opened dynamic library libcublasLt.so.11\n",
      "2022-12-22 04:29:54.135160: I tensorflow/stream_executor/platform/default/dso_loader.cc:49] Successfully opened dynamic library libcufft.so.10\n",
      "2022-12-22 04:29:54.141956: I tensorflow/stream_executor/platform/default/dso_loader.cc:49] Successfully opened dynamic library libcurand.so.10\n",
      "2022-12-22 04:29:54.165997: I tensorflow/stream_executor/platform/default/dso_loader.cc:49] Successfully opened dynamic library libcusolver.so.10\n",
      "2022-12-22 04:29:54.173954: I tensorflow/stream_executor/platform/default/dso_loader.cc:49] Successfully opened dynamic library libcusparse.so.11\n",
      "2022-12-22 04:29:54.176955: I tensorflow/stream_executor/platform/default/dso_loader.cc:49] Successfully opened dynamic library libcudnn.so.8\n",
      "2022-12-22 04:29:54.177111: I tensorflow/stream_executor/cuda/cuda_gpu_executor.cc:941] successful NUMA node read from SysFS had negative value (-1), but there must be at least one NUMA node, so returning NUMA node zero\n",
      "2022-12-22 04:29:54.177896: I tensorflow/stream_executor/cuda/cuda_gpu_executor.cc:941] successful NUMA node read from SysFS had negative value (-1), but there must be at least one NUMA node, so returning NUMA node zero\n",
      "2022-12-22 04:29:54.179351: I tensorflow/core/common_runtime/gpu/gpu_device.cc:1862] Adding visible gpu devices: 0\n",
      "2022-12-22 04:29:54.180265: I tensorflow/core/platform/cpu_feature_guard.cc:142] This TensorFlow binary is optimized with oneAPI Deep Neural Network Library (oneDNN) to use the following CPU instructions in performance-critical operations:  AVX2 AVX512F FMA\n",
      "To enable them in other operations, rebuild TensorFlow with the appropriate compiler flags.\n",
      "2022-12-22 04:29:54.180470: I tensorflow/compiler/jit/xla_gpu_device.cc:99] Not creating XLA devices, tf_xla_enable_xla_devices not set\n",
      "2022-12-22 04:29:54.180715: I tensorflow/stream_executor/cuda/cuda_gpu_executor.cc:941] successful NUMA node read from SysFS had negative value (-1), but there must be at least one NUMA node, so returning NUMA node zero\n",
      "2022-12-22 04:29:54.181370: I tensorflow/core/common_runtime/gpu/gpu_device.cc:1720] Found device 0 with properties: \n",
      "pciBusID: 0000:00:04.0 name: Tesla P100-PCIE-16GB computeCapability: 6.0\n",
      "coreClock: 1.3285GHz coreCount: 56 deviceMemorySize: 15.90GiB deviceMemoryBandwidth: 681.88GiB/s\n",
      "2022-12-22 04:29:54.181427: I tensorflow/stream_executor/platform/default/dso_loader.cc:49] Successfully opened dynamic library libcudart.so.11.0\n",
      "2022-12-22 04:29:54.181455: I tensorflow/stream_executor/platform/default/dso_loader.cc:49] Successfully opened dynamic library libcublas.so.11\n",
      "2022-12-22 04:29:54.181474: I tensorflow/stream_executor/platform/default/dso_loader.cc:49] Successfully opened dynamic library libcublasLt.so.11\n",
      "2022-12-22 04:29:54.181507: I tensorflow/stream_executor/platform/default/dso_loader.cc:49] Successfully opened dynamic library libcufft.so.10\n",
      "2022-12-22 04:29:54.181532: I tensorflow/stream_executor/platform/default/dso_loader.cc:49] Successfully opened dynamic library libcurand.so.10\n",
      "2022-12-22 04:29:54.181549: I tensorflow/stream_executor/platform/default/dso_loader.cc:49] Successfully opened dynamic library libcusolver.so.10\n",
      "2022-12-22 04:29:54.181566: I tensorflow/stream_executor/platform/default/dso_loader.cc:49] Successfully opened dynamic library libcusparse.so.11\n",
      "2022-12-22 04:29:54.181582: I tensorflow/stream_executor/platform/default/dso_loader.cc:49] Successfully opened dynamic library libcudnn.so.8\n",
      "2022-12-22 04:29:54.181672: I tensorflow/stream_executor/cuda/cuda_gpu_executor.cc:941] successful NUMA node read from SysFS had negative value (-1), but there must be at least one NUMA node, so returning NUMA node zero\n",
      "2022-12-22 04:29:54.182352: I tensorflow/stream_executor/cuda/cuda_gpu_executor.cc:941] successful NUMA node read from SysFS had negative value (-1), but there must be at least one NUMA node, so returning NUMA node zero\n",
      "2022-12-22 04:29:54.182911: I tensorflow/core/common_runtime/gpu/gpu_device.cc:1862] Adding visible gpu devices: 0\n",
      "2022-12-22 04:29:54.183950: I tensorflow/stream_executor/platform/default/dso_loader.cc:49] Successfully opened dynamic library libcudart.so.11.0\n",
      "2022-12-22 04:29:55.777311: I tensorflow/core/common_runtime/gpu/gpu_device.cc:1261] Device interconnect StreamExecutor with strength 1 edge matrix:\n",
      "2022-12-22 04:29:55.777360: I tensorflow/core/common_runtime/gpu/gpu_device.cc:1267]      0 \n",
      "2022-12-22 04:29:55.777371: I tensorflow/core/common_runtime/gpu/gpu_device.cc:1280] 0:   N \n",
      "2022-12-22 04:29:55.779706: I tensorflow/stream_executor/cuda/cuda_gpu_executor.cc:941] successful NUMA node read from SysFS had negative value (-1), but there must be at least one NUMA node, so returning NUMA node zero\n",
      "2022-12-22 04:29:55.780570: I tensorflow/stream_executor/cuda/cuda_gpu_executor.cc:941] successful NUMA node read from SysFS had negative value (-1), but there must be at least one NUMA node, so returning NUMA node zero\n",
      "2022-12-22 04:29:55.781258: I tensorflow/stream_executor/cuda/cuda_gpu_executor.cc:941] successful NUMA node read from SysFS had negative value (-1), but there must be at least one NUMA node, so returning NUMA node zero\n",
      "2022-12-22 04:29:55.781839: I tensorflow/core/common_runtime/gpu/gpu_device.cc:1406] Created TensorFlow device (/job:localhost/replica:0/task:0/device:GPU:0 with 14957 MB memory) -> physical GPU (device: 0, name: Tesla P100-PCIE-16GB, pci bus id: 0000:00:04.0, compute capability: 6.0)\n",
      "2022-12-22 04:29:56.460459: I tensorflow/stream_executor/platform/default/dso_loader.cc:49] Successfully opened dynamic library libcublas.so.11\n",
      "2022-12-22 04:29:57.273331: I tensorflow/stream_executor/platform/default/dso_loader.cc:49] Successfully opened dynamic library libcublasLt.so.11\n",
      "Some layers from the model checkpoint at bert-base-multilingual-uncased were not used when initializing TFBertModel: ['nsp___cls', 'mlm___cls']\n",
      "- This IS expected if you are initializing TFBertModel from the checkpoint of a model trained on another task or with another architecture (e.g. initializing a BertForSequenceClassification model from a BertForPreTraining model).\n",
      "- This IS NOT expected if you are initializing TFBertModel from the checkpoint of a model that you expect to be exactly identical (initializing a BertForSequenceClassification model from a BertForSequenceClassification model).\n",
      "All the layers of TFBertModel were initialized from the model checkpoint at bert-base-multilingual-uncased.\n",
      "If your task is similar to the task the model of the checkpoint was trained on, you can already use TFBertModel for predictions without further training.\n"
     ]
    }
   ],
   "source": [
    "from transformers import BertTokenizer, TFBertModel\n",
    "tokenizer = BertTokenizer.from_pretrained('bert-base-multilingual-uncased')\n",
    "bert = TFBertModel.from_pretrained(\"bert-base-multilingual-uncased\")"
   ]
  },
  {
   "cell_type": "code",
   "execution_count": 16,
   "id": "a631171d",
   "metadata": {
    "execution": {
     "iopub.execute_input": "2022-12-22T04:30:02.841676Z",
     "iopub.status.busy": "2022-12-22T04:30:02.840999Z",
     "iopub.status.idle": "2022-12-22T04:30:02.843767Z",
     "shell.execute_reply": "2022-12-22T04:30:02.844213Z",
     "shell.execute_reply.started": "2022-12-22T04:18:37.971235Z"
    },
    "papermill": {
     "duration": 0.043017,
     "end_time": "2022-12-22T04:30:02.844345",
     "exception": false,
     "start_time": "2022-12-22T04:30:02.801328",
     "status": "completed"
    },
    "tags": []
   },
   "outputs": [
    {
     "data": {
      "text/plain": [
       "{'input_ids': [101, 10191, 10127, 12922, 102], 'token_type_ids': [0, 0, 0, 0, 0], 'attention_mask': [1, 1, 1, 1, 1]}"
      ]
     },
     "execution_count": 16,
     "metadata": {},
     "output_type": "execute_result"
    }
   ],
   "source": [
    "tokenizer('he is fine')"
   ]
  },
  {
   "cell_type": "code",
   "execution_count": 17,
   "id": "fe3f1297",
   "metadata": {
    "execution": {
     "iopub.execute_input": "2022-12-22T04:30:02.927698Z",
     "iopub.status.busy": "2022-12-22T04:30:02.927055Z",
     "iopub.status.idle": "2022-12-22T04:30:02.929704Z",
     "shell.execute_reply": "2022-12-22T04:30:02.930135Z",
     "shell.execute_reply.started": "2022-12-22T04:18:37.980797Z"
    },
    "papermill": {
     "duration": 0.05264,
     "end_time": "2022-12-22T04:30:02.930286",
     "exception": false,
     "start_time": "2022-12-22T04:30:02.877646",
     "status": "completed"
    },
    "tags": []
   },
   "outputs": [
    {
     "data": {
      "text/plain": [
       "9.19529702970297"
      ]
     },
     "execution_count": 17,
     "metadata": {},
     "output_type": "execute_result"
    }
   ],
   "source": [
    "train_df['hypothesis'].apply(lambda x: len(x.split())).mean()"
   ]
  },
  {
   "cell_type": "code",
   "execution_count": 18,
   "id": "464496af",
   "metadata": {
    "execution": {
     "iopub.execute_input": "2022-12-22T04:30:03.011390Z",
     "iopub.status.busy": "2022-12-22T04:30:03.001956Z",
     "iopub.status.idle": "2022-12-22T04:30:03.014108Z",
     "shell.execute_reply": "2022-12-22T04:30:03.014680Z",
     "shell.execute_reply.started": "2022-12-22T04:18:39.548824Z"
    },
    "papermill": {
     "duration": 0.050938,
     "end_time": "2022-12-22T04:30:03.014833",
     "exception": false,
     "start_time": "2022-12-22T04:30:02.963895",
     "status": "completed"
    },
    "tags": []
   },
   "outputs": [
    {
     "name": "stdout",
     "output_type": "stream",
     "text": [
      "max length of word 46\n"
     ]
    }
   ],
   "source": [
    "print('max length of word',max([len(x.split()) for x in train_df['hypothesis']]))"
   ]
  },
  {
   "cell_type": "code",
   "execution_count": 19,
   "id": "12169bda",
   "metadata": {
    "execution": {
     "iopub.execute_input": "2022-12-22T04:30:03.087821Z",
     "iopub.status.busy": "2022-12-22T04:30:03.087073Z",
     "iopub.status.idle": "2022-12-22T04:30:03.089138Z",
     "shell.execute_reply": "2022-12-22T04:30:03.089579Z",
     "shell.execute_reply.started": "2022-12-22T04:18:39.567025Z"
    },
    "papermill": {
     "duration": 0.039556,
     "end_time": "2022-12-22T04:30:03.089702",
     "exception": false,
     "start_time": "2022-12-22T04:30:03.050146",
     "status": "completed"
    },
    "tags": []
   },
   "outputs": [],
   "source": [
    "max_length=90"
   ]
  },
  {
   "cell_type": "code",
   "execution_count": 20,
   "id": "25f9e61e",
   "metadata": {
    "execution": {
     "iopub.execute_input": "2022-12-22T04:30:03.162602Z",
     "iopub.status.busy": "2022-12-22T04:30:03.161808Z",
     "iopub.status.idle": "2022-12-22T04:30:15.104974Z",
     "shell.execute_reply": "2022-12-22T04:30:15.104032Z",
     "shell.execute_reply.started": "2022-12-22T04:18:39.576353Z"
    },
    "papermill": {
     "duration": 11.98137,
     "end_time": "2022-12-22T04:30:15.105128",
     "exception": false,
     "start_time": "2022-12-22T04:30:03.123758",
     "status": "completed"
    },
    "tags": []
   },
   "outputs": [],
   "source": [
    "x_train=tokenizer(\n",
    "      \n",
    "    text=train_df[['premise','hypothesis']].values.tolist(),\n",
    "    add_special_tokens=True,\n",
    "    max_length=max_length,\n",
    "    truncation=True,\n",
    "    padding=True,\n",
    "    return_tensors='tf',\n",
    "    return_token_type_ids=True,\n",
    "    return_attention_mask=True,\n",
    "    verbose=True\n",
    "    \n",
    "    )"
   ]
  },
  {
   "cell_type": "code",
   "execution_count": 21,
   "id": "fdbd16a5",
   "metadata": {
    "execution": {
     "iopub.execute_input": "2022-12-22T04:30:15.178699Z",
     "iopub.status.busy": "2022-12-22T04:30:15.178091Z",
     "iopub.status.idle": "2022-12-22T04:30:15.184035Z",
     "shell.execute_reply": "2022-12-22T04:30:15.184517Z",
     "shell.execute_reply.started": "2022-12-22T04:18:51.093663Z"
    },
    "papermill": {
     "duration": 0.044619,
     "end_time": "2022-12-22T04:30:15.184659",
     "exception": false,
     "start_time": "2022-12-22T04:30:15.140040",
     "status": "completed"
    },
    "tags": []
   },
   "outputs": [
    {
     "data": {
      "text/plain": [
       "{'input_ids': <tf.Tensor: shape=(12120, 90), dtype=int32, numpy=\n",
       "array([[  101, 10110, 11269, ...,     0,     0,     0],\n",
       "       [  101, 11269, 10320, ...,     0,     0,     0],\n",
       "       [  101, 10143, 29761, ...,     0,     0,     0],\n",
       "       ...,\n",
       "       [  101, 10103, 12652, ...,     0,     0,     0],\n",
       "       [  101, 10160, 10103, ...,     0,     0,     0],\n",
       "       [  101, 10139, 14885, ...,     0,     0,     0]], dtype=int32)>, 'token_type_ids': <tf.Tensor: shape=(12120, 90), dtype=int32, numpy=\n",
       "array([[0, 0, 0, ..., 0, 0, 0],\n",
       "       [0, 0, 0, ..., 0, 0, 0],\n",
       "       [0, 0, 0, ..., 0, 0, 0],\n",
       "       ...,\n",
       "       [0, 0, 0, ..., 0, 0, 0],\n",
       "       [0, 0, 0, ..., 0, 0, 0],\n",
       "       [0, 0, 0, ..., 0, 0, 0]], dtype=int32)>, 'attention_mask': <tf.Tensor: shape=(12120, 90), dtype=int32, numpy=\n",
       "array([[1, 1, 1, ..., 0, 0, 0],\n",
       "       [1, 1, 1, ..., 0, 0, 0],\n",
       "       [1, 1, 1, ..., 0, 0, 0],\n",
       "       ...,\n",
       "       [1, 1, 1, ..., 0, 0, 0],\n",
       "       [1, 1, 1, ..., 0, 0, 0],\n",
       "       [1, 1, 1, ..., 0, 0, 0]], dtype=int32)>}"
      ]
     },
     "execution_count": 21,
     "metadata": {},
     "output_type": "execute_result"
    }
   ],
   "source": [
    "x_train"
   ]
  },
  {
   "cell_type": "code",
   "execution_count": 22,
   "id": "fb7570a3",
   "metadata": {
    "execution": {
     "iopub.execute_input": "2022-12-22T04:30:15.257744Z",
     "iopub.status.busy": "2022-12-22T04:30:15.257022Z",
     "iopub.status.idle": "2022-12-22T04:30:15.260381Z",
     "shell.execute_reply": "2022-12-22T04:30:15.259954Z",
     "shell.execute_reply.started": "2022-12-22T04:18:51.106144Z"
    },
    "papermill": {
     "duration": 0.041572,
     "end_time": "2022-12-22T04:30:15.260503",
     "exception": false,
     "start_time": "2022-12-22T04:30:15.218931",
     "status": "completed"
    },
    "tags": []
   },
   "outputs": [
    {
     "data": {
      "text/plain": [
       "TensorShape([12120, 90])"
      ]
     },
     "execution_count": 22,
     "metadata": {},
     "output_type": "execute_result"
    }
   ],
   "source": [
    "x_train.input_ids.shape"
   ]
  },
  {
   "cell_type": "code",
   "execution_count": 23,
   "id": "78eef30e",
   "metadata": {
    "execution": {
     "iopub.execute_input": "2022-12-22T04:30:15.335650Z",
     "iopub.status.busy": "2022-12-22T04:30:15.334903Z",
     "iopub.status.idle": "2022-12-22T04:30:15.340381Z",
     "shell.execute_reply": "2022-12-22T04:30:15.339886Z",
     "shell.execute_reply.started": "2022-12-22T04:18:51.117143Z"
    },
    "papermill": {
     "duration": 0.045543,
     "end_time": "2022-12-22T04:30:15.340491",
     "exception": false,
     "start_time": "2022-12-22T04:30:15.294948",
     "status": "completed"
    },
    "tags": []
   },
   "outputs": [],
   "source": [
    "import tensorflow as tf\n",
    "from tensorflow.keras import Model,layers,optimizers,callbacks,losses,metrics,utils\n",
    "input_ids=layers.Input(shape=(max_length,),dtype=tf.int32,name='input_ids')\n",
    "token_type_ids=layers.Input(shape=(max_length,),dtype=tf.int32,name='token_type_ids')\n",
    "attention_mask=layers.Input(shape=(max_length,),dtype=tf.int32,name='attention_mask')"
   ]
  },
  {
   "cell_type": "code",
   "execution_count": 24,
   "id": "47455b6a",
   "metadata": {
    "execution": {
     "iopub.execute_input": "2022-12-22T04:30:15.414468Z",
     "iopub.status.busy": "2022-12-22T04:30:15.413806Z",
     "iopub.status.idle": "2022-12-22T04:30:20.964052Z",
     "shell.execute_reply": "2022-12-22T04:30:20.963505Z",
     "shell.execute_reply.started": "2022-12-22T04:18:51.131433Z"
    },
    "papermill": {
     "duration": 5.588928,
     "end_time": "2022-12-22T04:30:20.964179",
     "exception": false,
     "start_time": "2022-12-22T04:30:15.375251",
     "status": "completed"
    },
    "tags": []
   },
   "outputs": [],
   "source": [
    "embedding=bert(input_ids,token_type_ids,attention_mask)[1]"
   ]
  },
  {
   "cell_type": "code",
   "execution_count": 25,
   "id": "1fe8ef97",
   "metadata": {
    "execution": {
     "iopub.execute_input": "2022-12-22T04:30:21.038539Z",
     "iopub.status.busy": "2022-12-22T04:30:21.037842Z",
     "iopub.status.idle": "2022-12-22T04:30:21.040579Z",
     "shell.execute_reply": "2022-12-22T04:30:21.040985Z",
     "shell.execute_reply.started": "2022-12-22T04:18:56.630351Z"
    },
    "papermill": {
     "duration": 0.042119,
     "end_time": "2022-12-22T04:30:21.041117",
     "exception": false,
     "start_time": "2022-12-22T04:30:20.998998",
     "status": "completed"
    },
    "tags": []
   },
   "outputs": [
    {
     "data": {
      "text/plain": [
       "<KerasTensor: shape=(None, 768) dtype=float32 (created by layer 'tf_bert_model')>"
      ]
     },
     "execution_count": 25,
     "metadata": {},
     "output_type": "execute_result"
    }
   ],
   "source": [
    "embedding"
   ]
  },
  {
   "cell_type": "code",
   "execution_count": 26,
   "id": "be217e50",
   "metadata": {
    "execution": {
     "iopub.execute_input": "2022-12-22T04:30:21.115893Z",
     "iopub.status.busy": "2022-12-22T04:30:21.115271Z",
     "iopub.status.idle": "2022-12-22T04:30:21.117989Z",
     "shell.execute_reply": "2022-12-22T04:30:21.118521Z",
     "shell.execute_reply.started": "2022-12-22T04:18:56.638417Z"
    },
    "papermill": {
     "duration": 0.042152,
     "end_time": "2022-12-22T04:30:21.118669",
     "exception": false,
     "start_time": "2022-12-22T04:30:21.076517",
     "status": "completed"
    },
    "tags": []
   },
   "outputs": [
    {
     "data": {
      "text/plain": [
       "<KerasTensor: shape=(None, 90) dtype=int32 (created by layer 'input_ids')>"
      ]
     },
     "execution_count": 26,
     "metadata": {},
     "output_type": "execute_result"
    }
   ],
   "source": [
    "input_ids"
   ]
  },
  {
   "cell_type": "code",
   "execution_count": 27,
   "id": "c471ccf9",
   "metadata": {
    "execution": {
     "iopub.execute_input": "2022-12-22T04:30:21.193337Z",
     "iopub.status.busy": "2022-12-22T04:30:21.192551Z",
     "iopub.status.idle": "2022-12-22T04:30:21.237223Z",
     "shell.execute_reply": "2022-12-22T04:30:21.236799Z",
     "shell.execute_reply.started": "2022-12-22T04:18:56.649367Z"
    },
    "papermill": {
     "duration": 0.082514,
     "end_time": "2022-12-22T04:30:21.237344",
     "exception": false,
     "start_time": "2022-12-22T04:30:21.154830",
     "status": "completed"
    },
    "tags": []
   },
   "outputs": [],
   "source": [
    "out=layers.Dropout(0.15)(embedding)\n",
    "out=layers.Dense(399,activation='relu')(out)\n",
    "\n",
    "out=layers.Dropout(0.15)(out)\n",
    "out=layers.Dense(99,activation='relu')(out)\n",
    "out=layers.Dense(17,activation='relu')(out)\n",
    "y=layers.Dense(3,activation='softmax')(out)\n",
    "\n",
    "nn=Model(inputs=[input_ids,token_type_ids,attention_mask],outputs=y)\n",
    "nn.layers[3].trainable=True\n",
    "optimizer=optimizers.Adam(learning_rate = 2e-5)"
   ]
  },
  {
   "cell_type": "code",
   "execution_count": 28,
   "id": "0e5a2785",
   "metadata": {
    "execution": {
     "iopub.execute_input": "2022-12-22T04:30:21.317762Z",
     "iopub.status.busy": "2022-12-22T04:30:21.316767Z",
     "iopub.status.idle": "2022-12-22T04:30:21.330370Z",
     "shell.execute_reply": "2022-12-22T04:30:21.329409Z",
     "shell.execute_reply.started": "2022-12-22T04:18:56.701675Z"
    },
    "papermill": {
     "duration": 0.058365,
     "end_time": "2022-12-22T04:30:21.330524",
     "exception": false,
     "start_time": "2022-12-22T04:30:21.272159",
     "status": "completed"
    },
    "tags": []
   },
   "outputs": [
    {
     "name": "stdout",
     "output_type": "stream",
     "text": [
      "Model: \"model\"\n",
      "__________________________________________________________________________________________________\n",
      "Layer (type)                    Output Shape         Param #     Connected to                     \n",
      "==================================================================================================\n",
      "input_ids (InputLayer)          [(None, 90)]         0                                            \n",
      "__________________________________________________________________________________________________\n",
      "token_type_ids (InputLayer)     [(None, 90)]         0                                            \n",
      "__________________________________________________________________________________________________\n",
      "attention_mask (InputLayer)     [(None, 90)]         0                                            \n",
      "__________________________________________________________________________________________________\n",
      "tf_bert_model (TFBertModel)     TFBaseModelOutputWit 167356416   input_ids[0][0]                  \n",
      "                                                                 token_type_ids[0][0]             \n",
      "                                                                 attention_mask[0][0]             \n",
      "__________________________________________________________________________________________________\n",
      "dropout_37 (Dropout)            (None, 768)          0           tf_bert_model[0][1]              \n",
      "__________________________________________________________________________________________________\n",
      "dense (Dense)                   (None, 399)          306831      dropout_37[0][0]                 \n",
      "__________________________________________________________________________________________________\n",
      "dropout_38 (Dropout)            (None, 399)          0           dense[0][0]                      \n",
      "__________________________________________________________________________________________________\n",
      "dense_1 (Dense)                 (None, 99)           39600       dropout_38[0][0]                 \n",
      "__________________________________________________________________________________________________\n",
      "dense_2 (Dense)                 (None, 17)           1700        dense_1[0][0]                    \n",
      "__________________________________________________________________________________________________\n",
      "dense_3 (Dense)                 (None, 3)            54          dense_2[0][0]                    \n",
      "==================================================================================================\n",
      "Total params: 167,704,601\n",
      "Trainable params: 167,704,601\n",
      "Non-trainable params: 0\n",
      "__________________________________________________________________________________________________\n"
     ]
    }
   ],
   "source": [
    "nn.summary()"
   ]
  },
  {
   "cell_type": "code",
   "execution_count": 29,
   "id": "218ed6f8",
   "metadata": {
    "execution": {
     "iopub.execute_input": "2022-12-22T04:30:21.408423Z",
     "iopub.status.busy": "2022-12-22T04:30:21.407680Z",
     "iopub.status.idle": "2022-12-22T04:30:21.411175Z",
     "shell.execute_reply": "2022-12-22T04:30:21.410756Z",
     "shell.execute_reply.started": "2022-12-22T04:18:56.722642Z"
    },
    "papermill": {
     "duration": 0.044804,
     "end_time": "2022-12-22T04:30:21.411309",
     "exception": false,
     "start_time": "2022-12-22T04:30:21.366505",
     "status": "completed"
    },
    "tags": []
   },
   "outputs": [
    {
     "data": {
      "text/plain": [
       "0        0\n",
       "1        2\n",
       "2        0\n",
       "3        0\n",
       "4        1\n",
       "        ..\n",
       "12115    2\n",
       "12116    0\n",
       "12117    2\n",
       "12118    2\n",
       "12119    0\n",
       "Name: label, Length: 12120, dtype: int64"
      ]
     },
     "execution_count": 29,
     "metadata": {},
     "output_type": "execute_result"
    }
   ],
   "source": [
    "y_train=train_df['label']\n",
    "y_train"
   ]
  },
  {
   "cell_type": "code",
   "execution_count": 30,
   "id": "90f65534",
   "metadata": {
    "execution": {
     "iopub.execute_input": "2022-12-22T04:30:21.486585Z",
     "iopub.status.busy": "2022-12-22T04:30:21.485726Z",
     "iopub.status.idle": "2022-12-22T04:30:21.492344Z",
     "shell.execute_reply": "2022-12-22T04:30:21.492787Z",
     "shell.execute_reply.started": "2022-12-22T04:18:56.732708Z"
    },
    "papermill": {
     "duration": 0.045068,
     "end_time": "2022-12-22T04:30:21.492917",
     "exception": false,
     "start_time": "2022-12-22T04:30:21.447849",
     "status": "completed"
    },
    "tags": []
   },
   "outputs": [
    {
     "data": {
      "text/plain": [
       "0    4176\n",
       "2    4064\n",
       "1    3880\n",
       "Name: label, dtype: int64"
      ]
     },
     "execution_count": 30,
     "metadata": {},
     "output_type": "execute_result"
    }
   ],
   "source": [
    "y_train.value_counts()"
   ]
  },
  {
   "cell_type": "code",
   "execution_count": 31,
   "id": "d17947fa",
   "metadata": {
    "execution": {
     "iopub.execute_input": "2022-12-22T04:30:21.569033Z",
     "iopub.status.busy": "2022-12-22T04:30:21.568071Z",
     "iopub.status.idle": "2022-12-22T04:30:22.941189Z",
     "shell.execute_reply": "2022-12-22T04:30:22.941771Z",
     "shell.execute_reply.started": "2022-12-22T04:18:56.744585Z"
    },
    "papermill": {
     "duration": 1.412906,
     "end_time": "2022-12-22T04:30:22.941932",
     "exception": false,
     "start_time": "2022-12-22T04:30:21.529026",
     "status": "completed"
    },
    "tags": []
   },
   "outputs": [
    {
     "data": {
      "image/png": "[encoded data removed]",
      "text/plain": [
       "<IPython.core.display.Image object>"
      ]
     },
     "execution_count": 31,
     "metadata": {},
     "output_type": "execute_result"
    }
   ],
   "source": [
    "utils.plot_model(nn)"
   ]
  },
  {
   "cell_type": "code",
   "execution_count": 32,
   "id": "67035836",
   "metadata": {
    "execution": {
     "iopub.execute_input": "2022-12-22T04:30:23.019704Z",
     "iopub.status.busy": "2022-12-22T04:30:23.018915Z",
     "iopub.status.idle": "2022-12-22T04:39:08.666698Z",
     "shell.execute_reply": "2022-12-22T04:39:08.666188Z",
     "shell.execute_reply.started": "2022-12-22T04:18:57.992247Z"
    },
    "papermill": {
     "duration": 525.687531,
     "end_time": "2022-12-22T04:39:08.666829",
     "exception": false,
     "start_time": "2022-12-22T04:30:22.979298",
     "status": "completed"
    },
    "tags": []
   },
   "outputs": [
    {
     "name": "stderr",
     "output_type": "stream",
     "text": [
      "2022-12-22 04:30:23.100890: I tensorflow/compiler/mlir/mlir_graph_optimization_pass.cc:116] None of the MLIR optimization passes are enabled (registered 2)\n",
      "2022-12-22 04:30:23.113347: I tensorflow/core/platform/profile_utils/cpu_utils.cc:112] CPU Frequency: 2000179999 Hz\n"
     ]
    },
    {
     "name": "stdout",
     "output_type": "stream",
     "text": [
      "Epoch 1/5\n",
      "202/202 [==============================] - 114s 523ms/step - loss: 1.1012 - accuracy: 0.3425 - val_loss: 1.0240 - val_accuracy: 0.4729\n",
      "Epoch 2/5\n",
      "202/202 [==============================] - 103s 508ms/step - loss: 1.0058 - accuracy: 0.4842 - val_loss: 0.9987 - val_accuracy: 0.4950\n",
      "Epoch 3/5\n",
      "202/202 [==============================] - 103s 509ms/step - loss: 0.9233 - accuracy: 0.5566 - val_loss: 1.0609 - val_accuracy: 0.4799\n",
      "Epoch 4/5\n",
      "202/202 [==============================] - 103s 508ms/step - loss: 0.8025 - accuracy: 0.6489 - val_loss: 1.0737 - val_accuracy: 0.4944\n",
      "Epoch 5/5\n",
      "202/202 [==============================] - 103s 509ms/step - loss: 0.6575 - accuracy: 0.7279 - val_loss: 1.2003 - val_accuracy: 0.4884\n"
     ]
    },
    {
     "data": {
      "text/plain": [
       "<tensorflow.python.keras.callbacks.History at 0x7fbbb5095090>"
      ]
     },
     "execution_count": 32,
     "metadata": {},
     "output_type": "execute_result"
    }
   ],
   "source": [
    "nn.compile(optimizer=optimizer,loss='sparse_categorical_crossentropy',metrics=['accuracy'])\n",
    "nn.fit(\n",
    "\n",
    "    x={'input_ids':x_train['input_ids'],'token_type_ids':x_train['token_type_ids'],'attention_mask':x_train['attention_mask']},\n",
    "    y=y_train,\n",
    "    validation_split=0.25,\n",
    "    epochs=5,\n",
    "    batch_size=45\n",
    "\n",
    ")"
   ]
  },
  {
   "cell_type": "markdown",
   "id": "bd7a21b3",
   "metadata": {
    "papermill": {
     "duration": 0.292947,
     "end_time": "2022-12-22T04:39:09.242509",
     "exception": false,
     "start_time": "2022-12-22T04:39:08.949562",
     "status": "completed"
    },
    "tags": []
   },
   "source": [
    "# Working with test data"
   ]
  },
  {
   "cell_type": "code",
   "execution_count": 33,
   "id": "487e60c5",
   "metadata": {
    "execution": {
     "iopub.execute_input": "2022-12-22T04:39:09.821113Z",
     "iopub.status.busy": "2022-12-22T04:39:09.813699Z",
     "iopub.status.idle": "2022-12-22T04:39:09.823895Z",
     "shell.execute_reply": "2022-12-22T04:39:09.824325Z",
     "shell.execute_reply.started": "2022-12-22T04:27:41.728446Z"
    },
    "papermill": {
     "duration": 0.297637,
     "end_time": "2022-12-22T04:39:09.824475",
     "exception": false,
     "start_time": "2022-12-22T04:39:09.526838",
     "status": "completed"
    },
    "tags": []
   },
   "outputs": [
    {
     "data": {
      "text/html": [
       "<div>\n",
       "<style scoped>\n",
       "    .dataframe tbody tr th:only-of-type {\n",
       "        vertical-align: middle;\n",
       "    }\n",
       "\n",
       "    .dataframe tbody tr th {\n",
       "        vertical-align: top;\n",
       "    }\n",
       "\n",
       "    .dataframe thead th {\n",
       "        text-align: right;\n",
       "    }\n",
       "</style>\n",
       "<table border=\"1\" class=\"dataframe\">\n",
       "  <thead>\n",
       "    <tr style=\"text-align: right;\">\n",
       "      <th></th>\n",
       "      <th>id</th>\n",
       "      <th>premise</th>\n",
       "      <th>hypothesis</th>\n",
       "      <th>lang_abv</th>\n",
       "      <th>language</th>\n",
       "    </tr>\n",
       "  </thead>\n",
       "  <tbody>\n",
       "    <tr>\n",
       "      <th>0</th>\n",
       "      <td>c6d58c3f69</td>\n",
       "      <td>بکس، کیسی، راہیل، یسعیاہ، کیلی، کیلی، اور کولم...</td>\n",
       "      <td>کیسی کے لئے کوئی یادگار نہیں ہوگا, کولمین ہائی...</td>\n",
       "      <td>ur</td>\n",
       "      <td>Urdu</td>\n",
       "    </tr>\n",
       "    <tr>\n",
       "      <th>1</th>\n",
       "      <td>cefcc82292</td>\n",
       "      <td>هذا هو ما تم نصحنا به.</td>\n",
       "      <td>عندما يتم إخبارهم بما يجب عليهم فعله ، فشلت ال...</td>\n",
       "      <td>ar</td>\n",
       "      <td>Arabic</td>\n",
       "    </tr>\n",
       "    <tr>\n",
       "      <th>2</th>\n",
       "      <td>e98005252c</td>\n",
       "      <td>et cela est en grande partie dû au fait que le...</td>\n",
       "      <td>Les mères se droguent.</td>\n",
       "      <td>fr</td>\n",
       "      <td>French</td>\n",
       "    </tr>\n",
       "    <tr>\n",
       "      <th>3</th>\n",
       "      <td>58518c10ba</td>\n",
       "      <td>与城市及其他公民及社区组织代表就IMA的艺术发展进行对话&amp;amp</td>\n",
       "      <td>IMA与其他组织合作，因为它们都依靠共享资金。</td>\n",
       "      <td>zh</td>\n",
       "      <td>Chinese</td>\n",
       "    </tr>\n",
       "    <tr>\n",
       "      <th>4</th>\n",
       "      <td>c32b0d16df</td>\n",
       "      <td>Она все еще была там.</td>\n",
       "      <td>Мы думали, что она ушла, однако, она осталась.</td>\n",
       "      <td>ru</td>\n",
       "      <td>Russian</td>\n",
       "    </tr>\n",
       "  </tbody>\n",
       "</table>\n",
       "</div>"
      ],
      "text/plain": [
       "           id                                            premise  \\\n",
       "0  c6d58c3f69  بکس، کیسی، راہیل، یسعیاہ، کیلی، کیلی، اور کولم...   \n",
       "1  cefcc82292                             هذا هو ما تم نصحنا به.   \n",
       "2  e98005252c  et cela est en grande partie dû au fait que le...   \n",
       "3  58518c10ba                   与城市及其他公民及社区组织代表就IMA的艺术发展进行对话&amp   \n",
       "4  c32b0d16df                              Она все еще была там.   \n",
       "\n",
       "                                          hypothesis lang_abv language  \n",
       "0  کیسی کے لئے کوئی یادگار نہیں ہوگا, کولمین ہائی...       ur     Urdu  \n",
       "1  عندما يتم إخبارهم بما يجب عليهم فعله ، فشلت ال...       ar   Arabic  \n",
       "2                             Les mères se droguent.       fr   French  \n",
       "3                            IMA与其他组织合作，因为它们都依靠共享资金。       zh  Chinese  \n",
       "4     Мы думали, что она ушла, однако, она осталась.       ru  Russian  "
      ]
     },
     "execution_count": 33,
     "metadata": {},
     "output_type": "execute_result"
    }
   ],
   "source": [
    "test_df.head()"
   ]
  },
  {
   "cell_type": "code",
   "execution_count": 34,
   "id": "a43d8c28",
   "metadata": {
    "execution": {
     "iopub.execute_input": "2022-12-22T04:39:10.407426Z",
     "iopub.status.busy": "2022-12-22T04:39:10.406593Z",
     "iopub.status.idle": "2022-12-22T04:39:10.416519Z",
     "shell.execute_reply": "2022-12-22T04:39:10.416084Z",
     "shell.execute_reply.started": "2022-12-22T04:27:41.743147Z"
    },
    "papermill": {
     "duration": 0.309961,
     "end_time": "2022-12-22T04:39:10.416643",
     "exception": false,
     "start_time": "2022-12-22T04:39:10.106682",
     "status": "completed"
    },
    "tags": []
   },
   "outputs": [
    {
     "data": {
      "text/html": [
       "<div>\n",
       "<style scoped>\n",
       "    .dataframe tbody tr th:only-of-type {\n",
       "        vertical-align: middle;\n",
       "    }\n",
       "\n",
       "    .dataframe tbody tr th {\n",
       "        vertical-align: top;\n",
       "    }\n",
       "\n",
       "    .dataframe thead th {\n",
       "        text-align: right;\n",
       "    }\n",
       "</style>\n",
       "<table border=\"1\" class=\"dataframe\">\n",
       "  <thead>\n",
       "    <tr style=\"text-align: right;\">\n",
       "      <th></th>\n",
       "      <th>premise</th>\n",
       "      <th>hypothesis</th>\n",
       "    </tr>\n",
       "  </thead>\n",
       "  <tbody>\n",
       "    <tr>\n",
       "      <th>0</th>\n",
       "      <td>بکس، کیسی، راہیل، یسعیاہ، کیلی، کیلی، اور کولم...</td>\n",
       "      <td>کیسی کے لئے کوئی یادگار نہیں ہوگا, کولمین ہائی...</td>\n",
       "    </tr>\n",
       "    <tr>\n",
       "      <th>1</th>\n",
       "      <td>هذا هو ما تم نصحنا به.</td>\n",
       "      <td>عندما يتم إخبارهم بما يجب عليهم فعله ، فشلت ال...</td>\n",
       "    </tr>\n",
       "    <tr>\n",
       "      <th>2</th>\n",
       "      <td>et cela est en grande partie dû au fait que le...</td>\n",
       "      <td>Les mères se droguent.</td>\n",
       "    </tr>\n",
       "    <tr>\n",
       "      <th>3</th>\n",
       "      <td>与城市及其他公民及社区组织代表就IMA的艺术发展进行对话&amp;amp</td>\n",
       "      <td>IMA与其他组织合作，因为它们都依靠共享资金。</td>\n",
       "    </tr>\n",
       "    <tr>\n",
       "      <th>4</th>\n",
       "      <td>Она все еще была там.</td>\n",
       "      <td>Мы думали, что она ушла, однако, она осталась.</td>\n",
       "    </tr>\n",
       "  </tbody>\n",
       "</table>\n",
       "</div>"
      ],
      "text/plain": [
       "                                             premise  \\\n",
       "0  بکس، کیسی، راہیل، یسعیاہ، کیلی، کیلی، اور کولم...   \n",
       "1                             هذا هو ما تم نصحنا به.   \n",
       "2  et cela est en grande partie dû au fait que le...   \n",
       "3                   与城市及其他公民及社区组织代表就IMA的艺术发展进行对话&amp   \n",
       "4                              Она все еще была там.   \n",
       "\n",
       "                                          hypothesis  \n",
       "0  کیسی کے لئے کوئی یادگار نہیں ہوگا, کولمین ہائی...  \n",
       "1  عندما يتم إخبارهم بما يجب عليهم فعله ، فشلت ال...  \n",
       "2                             Les mères se droguent.  \n",
       "3                            IMA与其他组织合作，因为它们都依靠共享资金。  \n",
       "4     Мы думали, что она ушла, однако, она осталась.  "
      ]
     },
     "execution_count": 34,
     "metadata": {},
     "output_type": "execute_result"
    }
   ],
   "source": [
    "test_df=test_df.drop(columns=['id','lang_abv','language'],axis=1)\n",
    "test_df.head()"
   ]
  },
  {
   "cell_type": "code",
   "execution_count": 35,
   "id": "31dc5d46",
   "metadata": {
    "execution": {
     "iopub.execute_input": "2022-12-22T04:39:11.030654Z",
     "iopub.status.busy": "2022-12-22T04:39:10.994726Z",
     "iopub.status.idle": "2022-12-22T04:39:15.639105Z",
     "shell.execute_reply": "2022-12-22T04:39:15.638637Z",
     "shell.execute_reply.started": "2022-12-22T04:27:41.762271Z"
    },
    "papermill": {
     "duration": 4.943758,
     "end_time": "2022-12-22T04:39:15.639270",
     "exception": false,
     "start_time": "2022-12-22T04:39:10.695512",
     "status": "completed"
    },
    "tags": []
   },
   "outputs": [],
   "source": [
    "x_test=tokenizer(\n",
    "\n",
    "    text=test_df[['premise','hypothesis']].values.tolist(),\n",
    "    add_special_tokens=True,\n",
    "    max_length=max_length,\n",
    "    truncation=True,\n",
    "    padding=True,\n",
    "    return_tensors='tf',\n",
    "    return_token_type_ids=True,\n",
    "    return_attention_mask=True,\n",
    "    verbose=True\n",
    "\n",
    "\n",
    ")"
   ]
  },
  {
   "cell_type": "code",
   "execution_count": 36,
   "id": "da9cb5f6",
   "metadata": {
    "execution": {
     "iopub.execute_input": "2022-12-22T04:39:16.349849Z",
     "iopub.status.busy": "2022-12-22T04:39:16.349035Z",
     "iopub.status.idle": "2022-12-22T04:39:16.353827Z",
     "shell.execute_reply": "2022-12-22T04:39:16.354407Z",
     "shell.execute_reply.started": "2022-12-22T04:27:46.792373Z"
    },
    "papermill": {
     "duration": 0.436805,
     "end_time": "2022-12-22T04:39:16.354599",
     "exception": false,
     "start_time": "2022-12-22T04:39:15.917794",
     "status": "completed"
    },
    "tags": []
   },
   "outputs": [
    {
     "data": {
      "text/plain": [
       "{'input_ids': <tf.Tensor: shape=(5195, 90), dtype=int32, numpy=\n",
       "array([[  101,   452, 28821, ..., 18055,   119,   102],\n",
       "       [  101, 13812, 12153, ...,     0,     0,     0],\n",
       "       [  101, 10137, 17779, ...,     0,     0,     0],\n",
       "       ...,\n",
       "       [  101,  3018,  6017, ...,     0,     0,     0],\n",
       "       [  101, 65148,   112, ...,     0,     0,     0],\n",
       "       [  101, 10104, 14001, ...,     0,     0,     0]], dtype=int32)>, 'token_type_ids': <tf.Tensor: shape=(5195, 90), dtype=int32, numpy=\n",
       "array([[0, 0, 0, ..., 1, 1, 1],\n",
       "       [0, 0, 0, ..., 0, 0, 0],\n",
       "       [0, 0, 0, ..., 0, 0, 0],\n",
       "       ...,\n",
       "       [0, 0, 0, ..., 0, 0, 0],\n",
       "       [0, 0, 0, ..., 0, 0, 0],\n",
       "       [0, 0, 0, ..., 0, 0, 0]], dtype=int32)>, 'attention_mask': <tf.Tensor: shape=(5195, 90), dtype=int32, numpy=\n",
       "array([[1, 1, 1, ..., 1, 1, 1],\n",
       "       [1, 1, 1, ..., 0, 0, 0],\n",
       "       [1, 1, 1, ..., 0, 0, 0],\n",
       "       ...,\n",
       "       [1, 1, 1, ..., 0, 0, 0],\n",
       "       [1, 1, 1, ..., 0, 0, 0],\n",
       "       [1, 1, 1, ..., 0, 0, 0]], dtype=int32)>}"
      ]
     },
     "execution_count": 36,
     "metadata": {},
     "output_type": "execute_result"
    }
   ],
   "source": [
    "x_test"
   ]
  },
  {
   "cell_type": "code",
   "execution_count": 37,
   "id": "08b0dc2f",
   "metadata": {
    "execution": {
     "iopub.execute_input": "2022-12-22T04:39:16.988938Z",
     "iopub.status.busy": "2022-12-22T04:39:16.988122Z",
     "iopub.status.idle": "2022-12-22T04:39:39.115958Z",
     "shell.execute_reply": "2022-12-22T04:39:39.116558Z",
     "shell.execute_reply.started": "2022-12-22T04:27:46.802355Z"
    },
    "papermill": {
     "duration": 22.409339,
     "end_time": "2022-12-22T04:39:39.116743",
     "exception": false,
     "start_time": "2022-12-22T04:39:16.707404",
     "status": "completed"
    },
    "tags": []
   },
   "outputs": [],
   "source": [
    "predicted=nn.predict({'input_ids':x_test['input_ids'],'token_type_ids':x_test['token_type_ids'],'attention_mask':x_test['attention_mask']})"
   ]
  },
  {
   "cell_type": "code",
   "execution_count": 38,
   "id": "0c71173a",
   "metadata": {
    "execution": {
     "iopub.execute_input": "2022-12-22T04:39:39.682305Z",
     "iopub.status.busy": "2022-12-22T04:39:39.681617Z",
     "iopub.status.idle": "2022-12-22T04:39:39.684439Z",
     "shell.execute_reply": "2022-12-22T04:39:39.684838Z",
     "shell.execute_reply.started": "2022-12-22T04:28:08.939632Z"
    },
    "papermill": {
     "duration": 0.286133,
     "end_time": "2022-12-22T04:39:39.684984",
     "exception": false,
     "start_time": "2022-12-22T04:39:39.398851",
     "status": "completed"
    },
    "tags": []
   },
   "outputs": [
    {
     "data": {
      "text/plain": [
       "array([[0.16078629, 0.17558107, 0.66363263],\n",
       "       [0.13419273, 0.2691492 , 0.59665805],\n",
       "       [0.2475355 , 0.72519064, 0.02727387],\n",
       "       ...,\n",
       "       [0.07198595, 0.7727555 , 0.1552585 ],\n",
       "       [0.9248782 , 0.0666063 , 0.00851555],\n",
       "       [0.12615749, 0.07534837, 0.7984942 ]], dtype=float32)"
      ]
     },
     "execution_count": 38,
     "metadata": {},
     "output_type": "execute_result"
    }
   ],
   "source": [
    "predicted"
   ]
  },
  {
   "cell_type": "code",
   "execution_count": 39,
   "id": "0a492a2f",
   "metadata": {
    "execution": {
     "iopub.execute_input": "2022-12-22T04:39:40.262817Z",
     "iopub.status.busy": "2022-12-22T04:39:40.262270Z",
     "iopub.status.idle": "2022-12-22T04:39:40.267051Z",
     "shell.execute_reply": "2022-12-22T04:39:40.266640Z",
     "shell.execute_reply.started": "2022-12-22T04:28:08.947601Z"
    },
    "papermill": {
     "duration": 0.295128,
     "end_time": "2022-12-22T04:39:40.267171",
     "exception": false,
     "start_time": "2022-12-22T04:39:39.972043",
     "status": "completed"
    },
    "tags": []
   },
   "outputs": [
    {
     "data": {
      "text/plain": [
       "array([2, 2, 1, ..., 1, 0, 2])"
      ]
     },
     "execution_count": 39,
     "metadata": {},
     "output_type": "execute_result"
    }
   ],
   "source": [
    "y_pred=np.argmax(predicted,axis=1)\n",
    "y_pred"
   ]
  },
  {
   "cell_type": "code",
   "execution_count": 40,
   "id": "0162ccb5",
   "metadata": {
    "execution": {
     "iopub.execute_input": "2022-12-22T04:39:40.837108Z",
     "iopub.status.busy": "2022-12-22T04:39:40.836275Z",
     "iopub.status.idle": "2022-12-22T04:39:40.845177Z",
     "shell.execute_reply": "2022-12-22T04:39:40.844768Z",
     "shell.execute_reply.started": "2022-12-22T04:28:08.959814Z"
    },
    "papermill": {
     "duration": 0.297798,
     "end_time": "2022-12-22T04:39:40.845323",
     "exception": false,
     "start_time": "2022-12-22T04:39:40.547525",
     "status": "completed"
    },
    "tags": []
   },
   "outputs": [
    {
     "data": {
      "text/html": [
       "<div>\n",
       "<style scoped>\n",
       "    .dataframe tbody tr th:only-of-type {\n",
       "        vertical-align: middle;\n",
       "    }\n",
       "\n",
       "    .dataframe tbody tr th {\n",
       "        vertical-align: top;\n",
       "    }\n",
       "\n",
       "    .dataframe thead th {\n",
       "        text-align: right;\n",
       "    }\n",
       "</style>\n",
       "<table border=\"1\" class=\"dataframe\">\n",
       "  <thead>\n",
       "    <tr style=\"text-align: right;\">\n",
       "      <th></th>\n",
       "      <th>id</th>\n",
       "      <th>prediction</th>\n",
       "    </tr>\n",
       "  </thead>\n",
       "  <tbody>\n",
       "    <tr>\n",
       "      <th>0</th>\n",
       "      <td>c6d58c3f69</td>\n",
       "      <td>1</td>\n",
       "    </tr>\n",
       "    <tr>\n",
       "      <th>1</th>\n",
       "      <td>cefcc82292</td>\n",
       "      <td>1</td>\n",
       "    </tr>\n",
       "    <tr>\n",
       "      <th>2</th>\n",
       "      <td>e98005252c</td>\n",
       "      <td>1</td>\n",
       "    </tr>\n",
       "    <tr>\n",
       "      <th>3</th>\n",
       "      <td>58518c10ba</td>\n",
       "      <td>1</td>\n",
       "    </tr>\n",
       "    <tr>\n",
       "      <th>4</th>\n",
       "      <td>c32b0d16df</td>\n",
       "      <td>1</td>\n",
       "    </tr>\n",
       "    <tr>\n",
       "      <th>...</th>\n",
       "      <td>...</td>\n",
       "      <td>...</td>\n",
       "    </tr>\n",
       "    <tr>\n",
       "      <th>5190</th>\n",
       "      <td>5f90dd59b0</td>\n",
       "      <td>1</td>\n",
       "    </tr>\n",
       "    <tr>\n",
       "      <th>5191</th>\n",
       "      <td>f357a04e86</td>\n",
       "      <td>1</td>\n",
       "    </tr>\n",
       "    <tr>\n",
       "      <th>5192</th>\n",
       "      <td>1f0ea92118</td>\n",
       "      <td>1</td>\n",
       "    </tr>\n",
       "    <tr>\n",
       "      <th>5193</th>\n",
       "      <td>0407b48afb</td>\n",
       "      <td>1</td>\n",
       "    </tr>\n",
       "    <tr>\n",
       "      <th>5194</th>\n",
       "      <td>16c2f2ab89</td>\n",
       "      <td>1</td>\n",
       "    </tr>\n",
       "  </tbody>\n",
       "</table>\n",
       "<p>5195 rows × 2 columns</p>\n",
       "</div>"
      ],
      "text/plain": [
       "              id  prediction\n",
       "0     c6d58c3f69           1\n",
       "1     cefcc82292           1\n",
       "2     e98005252c           1\n",
       "3     58518c10ba           1\n",
       "4     c32b0d16df           1\n",
       "...          ...         ...\n",
       "5190  5f90dd59b0           1\n",
       "5191  f357a04e86           1\n",
       "5192  1f0ea92118           1\n",
       "5193  0407b48afb           1\n",
       "5194  16c2f2ab89           1\n",
       "\n",
       "[5195 rows x 2 columns]"
      ]
     },
     "execution_count": 40,
     "metadata": {},
     "output_type": "execute_result"
    }
   ],
   "source": [
    "sub_df"
   ]
  },
  {
   "cell_type": "code",
   "execution_count": 41,
   "id": "2b6b73e6",
   "metadata": {
    "execution": {
     "iopub.execute_input": "2022-12-22T04:39:41.419347Z",
     "iopub.status.busy": "2022-12-22T04:39:41.418498Z",
     "iopub.status.idle": "2022-12-22T04:39:41.420577Z",
     "shell.execute_reply": "2022-12-22T04:39:41.420950Z",
     "shell.execute_reply.started": "2022-12-22T04:28:08.976266Z"
    },
    "papermill": {
     "duration": 0.292264,
     "end_time": "2022-12-22T04:39:41.421089",
     "exception": false,
     "start_time": "2022-12-22T04:39:41.128825",
     "status": "completed"
    },
    "tags": []
   },
   "outputs": [],
   "source": [
    "sub=pd.DataFrame({'id':sub_df['id'],'prediction':y_pred})"
   ]
  },
  {
   "cell_type": "code",
   "execution_count": 42,
   "id": "70fbc5d1",
   "metadata": {
    "execution": {
     "iopub.execute_input": "2022-12-22T04:39:42.009659Z",
     "iopub.status.busy": "2022-12-22T04:39:42.009048Z",
     "iopub.status.idle": "2022-12-22T04:39:42.013952Z",
     "shell.execute_reply": "2022-12-22T04:39:42.014388Z",
     "shell.execute_reply.started": "2022-12-22T04:28:08.985971Z"
    },
    "papermill": {
     "duration": 0.295037,
     "end_time": "2022-12-22T04:39:42.014541",
     "exception": false,
     "start_time": "2022-12-22T04:39:41.719504",
     "status": "completed"
    },
    "tags": []
   },
   "outputs": [
    {
     "data": {
      "text/html": [
       "<div>\n",
       "<style scoped>\n",
       "    .dataframe tbody tr th:only-of-type {\n",
       "        vertical-align: middle;\n",
       "    }\n",
       "\n",
       "    .dataframe tbody tr th {\n",
       "        vertical-align: top;\n",
       "    }\n",
       "\n",
       "    .dataframe thead th {\n",
       "        text-align: right;\n",
       "    }\n",
       "</style>\n",
       "<table border=\"1\" class=\"dataframe\">\n",
       "  <thead>\n",
       "    <tr style=\"text-align: right;\">\n",
       "      <th></th>\n",
       "      <th>id</th>\n",
       "      <th>prediction</th>\n",
       "    </tr>\n",
       "  </thead>\n",
       "  <tbody>\n",
       "    <tr>\n",
       "      <th>0</th>\n",
       "      <td>c6d58c3f69</td>\n",
       "      <td>2</td>\n",
       "    </tr>\n",
       "    <tr>\n",
       "      <th>1</th>\n",
       "      <td>cefcc82292</td>\n",
       "      <td>2</td>\n",
       "    </tr>\n",
       "    <tr>\n",
       "      <th>2</th>\n",
       "      <td>e98005252c</td>\n",
       "      <td>1</td>\n",
       "    </tr>\n",
       "    <tr>\n",
       "      <th>3</th>\n",
       "      <td>58518c10ba</td>\n",
       "      <td>1</td>\n",
       "    </tr>\n",
       "    <tr>\n",
       "      <th>4</th>\n",
       "      <td>c32b0d16df</td>\n",
       "      <td>0</td>\n",
       "    </tr>\n",
       "    <tr>\n",
       "      <th>...</th>\n",
       "      <td>...</td>\n",
       "      <td>...</td>\n",
       "    </tr>\n",
       "    <tr>\n",
       "      <th>5190</th>\n",
       "      <td>5f90dd59b0</td>\n",
       "      <td>0</td>\n",
       "    </tr>\n",
       "    <tr>\n",
       "      <th>5191</th>\n",
       "      <td>f357a04e86</td>\n",
       "      <td>1</td>\n",
       "    </tr>\n",
       "    <tr>\n",
       "      <th>5192</th>\n",
       "      <td>1f0ea92118</td>\n",
       "      <td>1</td>\n",
       "    </tr>\n",
       "    <tr>\n",
       "      <th>5193</th>\n",
       "      <td>0407b48afb</td>\n",
       "      <td>0</td>\n",
       "    </tr>\n",
       "    <tr>\n",
       "      <th>5194</th>\n",
       "      <td>16c2f2ab89</td>\n",
       "      <td>2</td>\n",
       "    </tr>\n",
       "  </tbody>\n",
       "</table>\n",
       "<p>5195 rows × 2 columns</p>\n",
       "</div>"
      ],
      "text/plain": [
       "              id  prediction\n",
       "0     c6d58c3f69           2\n",
       "1     cefcc82292           2\n",
       "2     e98005252c           1\n",
       "3     58518c10ba           1\n",
       "4     c32b0d16df           0\n",
       "...          ...         ...\n",
       "5190  5f90dd59b0           0\n",
       "5191  f357a04e86           1\n",
       "5192  1f0ea92118           1\n",
       "5193  0407b48afb           0\n",
       "5194  16c2f2ab89           2\n",
       "\n",
       "[5195 rows x 2 columns]"
      ]
     },
     "execution_count": 42,
     "metadata": {},
     "output_type": "execute_result"
    }
   ],
   "source": [
    "sub"
   ]
  },
  {
   "cell_type": "code",
   "execution_count": 43,
   "id": "1b983c2b",
   "metadata": {
    "execution": {
     "iopub.execute_input": "2022-12-22T04:39:42.584100Z",
     "iopub.status.busy": "2022-12-22T04:39:42.579267Z",
     "iopub.status.idle": "2022-12-22T04:39:42.586688Z",
     "shell.execute_reply": "2022-12-22T04:39:42.587098Z",
     "shell.execute_reply.started": "2022-12-22T04:28:09.004295Z"
    },
    "papermill": {
     "duration": 0.291699,
     "end_time": "2022-12-22T04:39:42.587260",
     "exception": false,
     "start_time": "2022-12-22T04:39:42.295561",
     "status": "completed"
    },
    "tags": []
   },
   "outputs": [
    {
     "data": {
      "text/plain": [
       "1    2106\n",
       "2    1649\n",
       "0    1440\n",
       "Name: prediction, dtype: int64"
      ]
     },
     "execution_count": 43,
     "metadata": {},
     "output_type": "execute_result"
    }
   ],
   "source": [
    "sub['prediction'].value_counts()"
   ]
  },
  {
   "cell_type": "code",
   "execution_count": 44,
   "id": "52b910df",
   "metadata": {
    "execution": {
     "iopub.execute_input": "2022-12-22T04:39:43.151592Z",
     "iopub.status.busy": "2022-12-22T04:39:43.150879Z",
     "iopub.status.idle": "2022-12-22T04:39:43.162184Z",
     "shell.execute_reply": "2022-12-22T04:39:43.161732Z",
     "shell.execute_reply.started": "2022-12-22T04:28:09.017496Z"
    },
    "papermill": {
     "duration": 0.297166,
     "end_time": "2022-12-22T04:39:43.162344",
     "exception": false,
     "start_time": "2022-12-22T04:39:42.865178",
     "status": "completed"
    },
    "tags": []
   },
   "outputs": [],
   "source": [
    "sub.to_csv('submission.csv',index=None)"
   ]
  }
 ],
 "metadata": {
  "kernelspec": {
   "display_name": "Python 3",
   "language": "python",
   "name": "python3"
  },
  "language_info": {
   "codemirror_mode": {
    "name": "ipython",
    "version": 3
   },
   "file_extension": ".py",
   "mimetype": "text/x-python",
   "name": "python",
   "nbconvert_exporter": "python",
   "pygments_lexer": "ipython3",
   "version": "3.7.10"
  },
  "papermill": {
   "default_parameters": {},
   "duration": 646.901111,
   "end_time": "2022-12-22T04:39:47.147550",
   "environment_variables": {},
   "exception": null,
   "input_path": "__notebook__.ipynb",
   "output_path": "__notebook__.ipynb",
   "parameters": {},
   "start_time": "2022-12-22T04:29:00.246439",
   "version": "2.3.3"
  },
  "widgets": {
   "application/vnd.jupyter.widget-state+json": {
    "state": {
     "0324b43834b240eaa581b578d969e66d": {
      "model_module": "@jupyter-widgets/controls",
      "model_module_version": "1.5.0",
      "model_name": "HBoxModel",
      "state": {
       "_dom_classes": [],
       "_model_module": "@jupyter-widgets/controls",
       "_model_module_version": "1.5.0",
       "_model_name": "HBoxModel",
       "_view_count": null,
       "_view_module": "@jupyter-widgets/controls",
       "_view_module_version": "1.5.0",
       "_view_name": "HBoxView",
       "box_style": "",
       "children": [
        "IPY_MODEL_d7f0d44d9baa4883a90f70861451c485",
        "IPY_MODEL_32bfbd1a78b34dc486d4a4dd454ec797",
        "IPY_MODEL_3a84bf6c7c7341c7a342fc8ee1305b53"
       ],
       "layout": "IPY_MODEL_3b85bad1f158459e9f53fb474f339cc5"
      }
     },
     "03fb4c46d2f24fd6b9e92e7a198a2991": {
      "model_module": "@jupyter-widgets/controls",
      "model_module_version": "1.5.0",
      "model_name": "HTMLModel",
      "state": {
       "_dom_classes": [],
       "_model_module": "@jupyter-widgets/controls",
       "_model_module_version": "1.5.0",
       "_model_name": "HTMLModel",
       "_view_count": null,
       "_view_module": "@jupyter-widgets/controls",
       "_view_module_version": "1.5.0",
       "_view_name": "HTMLView",
       "description": "",
       "description_tooltip": null,
       "layout": "IPY_MODEL_a0a70d9ea3e84e09a88b2e616fcd9f25",
       "placeholder": "​",
       "style": "IPY_MODEL_c6f7d33407324b6c92eca6e2b8546010",
       "value": "Downloading: 100%"
      }
     },
     "0cdc22750a334b5e84a93750cc9e476a": {
      "model_module": "@jupyter-widgets/controls",
      "model_module_version": "1.5.0",
      "model_name": "HTMLModel",
      "state": {
       "_dom_classes": [],
       "_model_module": "@jupyter-widgets/controls",
       "_model_module_version": "1.5.0",
       "_model_name": "HTMLModel",
       "_view_count": null,
       "_view_module": "@jupyter-widgets/controls",
       "_view_module_version": "1.5.0",
       "_view_name": "HTMLView",
       "description": "",
       "description_tooltip": null,
       "layout": "IPY_MODEL_2fb95685f112469b8cf9cee7bfd96f0a",
       "placeholder": "​",
       "style": "IPY_MODEL_8dd14a9a2b2c4817bb12cb43f782ed5b",
       "value": " 999M/999M [00:34&lt;00:00, 30.9MB/s]"
      }
     },
     "0dc40de3fcac4f7892b5cc07c847daad": {
      "model_module": "@jupyter-widgets/base",
      "model_module_version": "1.2.0",
      "model_name": "LayoutModel",
      "state": {
       "_model_module": "@jupyter-widgets/base",
       "_model_module_version": "1.2.0",
       "_model_name": "LayoutModel",
       "_view_count": null,
       "_view_module": "@jupyter-widgets/base",
       "_view_module_version": "1.2.0",
       "_view_name": "LayoutView",
       "align_content": null,
       "align_items": null,
       "align_self": null,
       "border": null,
       "bottom": null,
       "display": null,
       "flex": null,
       "flex_flow": null,
       "grid_area": null,
       "grid_auto_columns": null,
       "grid_auto_flow": null,
       "grid_auto_rows": null,
       "grid_column": null,
       "grid_gap": null,
       "grid_row": null,
       "grid_template_areas": null,
       "grid_template_columns": null,
       "grid_template_rows": null,
       "height": null,
       "justify_content": null,
       "justify_items": null,
       "left": null,
       "margin": null,
       "max_height": null,
       "max_width": null,
       "min_height": null,
       "min_width": null,
       "object_fit": null,
       "object_position": null,
       "order": null,
       "overflow": null,
       "overflow_x": null,
       "overflow_y": null,
       "padding": null,
       "right": null,
       "top": null,
       "visibility": null,
       "width": null
      }
     },
     "1311a8039ccd439abb788af6fc243841": {
      "model_module": "@jupyter-widgets/base",
      "model_module_version": "1.2.0",
      "model_name": "LayoutModel",
      "state": {
       "_model_module": "@jupyter-widgets/base",
       "_model_module_version": "1.2.0",
       "_model_name": "LayoutModel",
       "_view_count": null,
       "_view_module": "@jupyter-widgets/base",
       "_view_module_version": "1.2.0",
       "_view_name": "LayoutView",
       "align_content": null,
       "align_items": null,
       "align_self": null,
       "border": null,
       "bottom": null,
       "display": null,
       "flex": null,
       "flex_flow": null,
       "grid_area": null,
       "grid_auto_columns": null,
       "grid_auto_flow": null,
       "grid_auto_rows": null,
       "grid_column": null,
       "grid_gap": null,
       "grid_row": null,
       "grid_template_areas": null,
       "grid_template_columns": null,
       "grid_template_rows": null,
       "height": null,
       "justify_content": null,
       "justify_items": null,
       "left": null,
       "margin": null,
       "max_height": null,
       "max_width": null,
       "min_height": null,
       "min_width": null,
       "object_fit": null,
       "object_position": null,
       "order": null,
       "overflow": null,
       "overflow_x": null,
       "overflow_y": null,
       "padding": null,
       "right": null,
       "top": null,
       "visibility": null,
       "width": null
      }
     },
     "18b4dafaeea04923b070e3c539012618": {
      "model_module": "@jupyter-widgets/controls",
      "model_module_version": "1.5.0",
      "model_name": "ProgressStyleModel",
      "state": {
       "_model_module": "@jupyter-widgets/controls",
       "_model_module_version": "1.5.0",
       "_model_name": "ProgressStyleModel",
       "_view_count": null,
       "_view_module": "@jupyter-widgets/base",
       "_view_module_version": "1.2.0",
       "_view_name": "StyleView",
       "bar_color": null,
       "description_width": ""
      }
     },
     "1ec70a417f6a4d6689936b1ca834f7b0": {
      "model_module": "@jupyter-widgets/controls",
      "model_module_version": "1.5.0",
      "model_name": "FloatProgressModel",
      "state": {
       "_dom_classes": [],
       "_model_module": "@jupyter-widgets/controls",
       "_model_module_version": "1.5.0",
       "_model_name": "FloatProgressModel",
       "_view_count": null,
       "_view_module": "@jupyter-widgets/controls",
       "_view_module_version": "1.5.0",
       "_view_name": "ProgressView",
       "bar_style": "success",
       "description": "",
       "description_tooltip": null,
       "layout": "IPY_MODEL_1311a8039ccd439abb788af6fc243841",
       "max": 625.0,
       "min": 0.0,
       "orientation": "horizontal",
       "style": "IPY_MODEL_4d6ea239d9aa47aa8d62273cd4f80eca",
       "value": 625.0
      }
     },
     "23e30153528c4b788e939548833c46f1": {
      "model_module": "@jupyter-widgets/base",
      "model_module_version": "1.2.0",
      "model_name": "LayoutModel",
      "state": {
       "_model_module": "@jupyter-widgets/base",
       "_model_module_version": "1.2.0",
       "_model_name": "LayoutModel",
       "_view_count": null,
       "_view_module": "@jupyter-widgets/base",
       "_view_module_version": "1.2.0",
       "_view_name": "LayoutView",
       "align_content": null,
       "align_items": null,
       "align_self": null,
       "border": null,
       "bottom": null,
       "display": null,
       "flex": null,
       "flex_flow": null,
       "grid_area": null,
       "grid_auto_columns": null,
       "grid_auto_flow": null,
       "grid_auto_rows": null,
       "grid_column": null,
       "grid_gap": null,
       "grid_row": null,
       "grid_template_areas": null,
       "grid_template_columns": null,
       "grid_template_rows": null,
       "height": null,
       "justify_content": null,
       "justify_items": null,
       "left": null,
       "margin": null,
       "max_height": null,
       "max_width": null,
       "min_height": null,
       "min_width": null,
       "object_fit": null,
       "object_position": null,
       "order": null,
       "overflow": null,
       "overflow_x": null,
       "overflow_y": null,
       "padding": null,
       "right": null,
       "top": null,
       "visibility": null,
       "width": null
      }
     },
     "2505675f1e7b431ba0440e3c8c53e4ea": {
      "model_module": "@jupyter-widgets/controls",
      "model_module_version": "1.5.0",
      "model_name": "FloatProgressModel",
      "state": {
       "_dom_classes": [],
       "_model_module": "@jupyter-widgets/controls",
       "_model_module_version": "1.5.0",
       "_model_name": "FloatProgressModel",
       "_view_count": null,
       "_view_module": "@jupyter-widgets/controls",
       "_view_module_version": "1.5.0",
       "_view_name": "ProgressView",
       "bar_style": "success",
       "description": "",
       "description_tooltip": null,
       "layout": "IPY_MODEL_ffadc32decf94a6593ce4f17d3829bf0",
       "max": 1715180.0,
       "min": 0.0,
       "orientation": "horizontal",
       "style": "IPY_MODEL_d55d2820a03e4e5683b1daddcd7fa2de",
       "value": 1715180.0
      }
     },
     "26b652b2f2654ff3857fc5bab575fcbb": {
      "model_module": "@jupyter-widgets/controls",
      "model_module_version": "1.5.0",
      "model_name": "HTMLModel",
      "state": {
       "_dom_classes": [],
       "_model_module": "@jupyter-widgets/controls",
       "_model_module_version": "1.5.0",
       "_model_name": "HTMLModel",
       "_view_count": null,
       "_view_module": "@jupyter-widgets/controls",
       "_view_module_version": "1.5.0",
       "_view_name": "HTMLView",
       "description": "",
       "description_tooltip": null,
       "layout": "IPY_MODEL_b4079982d3e046c9b94aaf586080a603",
       "placeholder": "​",
       "style": "IPY_MODEL_65b13674f7334a4782b6a3fc13a8b868",
       "value": "Downloading: 100%"
      }
     },
     "2daf02b95e714dc58f6b802c1ba63fca": {
      "model_module": "@jupyter-widgets/controls",
      "model_module_version": "1.5.0",
      "model_name": "FloatProgressModel",
      "state": {
       "_dom_classes": [],
       "_model_module": "@jupyter-widgets/controls",
       "_model_module_version": "1.5.0",
       "_model_name": "FloatProgressModel",
       "_view_count": null,
       "_view_module": "@jupyter-widgets/controls",
       "_view_module_version": "1.5.0",
       "_view_name": "ProgressView",
       "bar_style": "success",
       "description": "",
       "description_tooltip": null,
       "layout": "IPY_MODEL_0dc40de3fcac4f7892b5cc07c847daad",
       "max": 28.0,
       "min": 0.0,
       "orientation": "horizontal",
       "style": "IPY_MODEL_fdf92bb751444ec6aee2afc855fc508d",
       "value": 28.0
      }
     },
     "2fb95685f112469b8cf9cee7bfd96f0a": {
      "model_module": "@jupyter-widgets/base",
      "model_module_version": "1.2.0",
      "model_name": "LayoutModel",
      "state": {
       "_model_module": "@jupyter-widgets/base",
       "_model_module_version": "1.2.0",
       "_model_name": "LayoutModel",
       "_view_count": null,
       "_view_module": "@jupyter-widgets/base",
       "_view_module_version": "1.2.0",
       "_view_name": "LayoutView",
       "align_content": null,
       "align_items": null,
       "align_self": null,
       "border": null,
       "bottom": null,
       "display": null,
       "flex": null,
       "flex_flow": null,
       "grid_area": null,
       "grid_auto_columns": null,
       "grid_auto_flow": null,
       "grid_auto_rows": null,
       "grid_column": null,
       "grid_gap": null,
       "grid_row": null,
       "grid_template_areas": null,
       "grid_template_columns": null,
       "grid_template_rows": null,
       "height": null,
       "justify_content": null,
       "justify_items": null,
       "left": null,
       "margin": null,
       "max_height": null,
       "max_width": null,
       "min_height": null,
       "min_width": null,
       "object_fit": null,
       "object_position": null,
       "order": null,
       "overflow": null,
       "overflow_x": null,
       "overflow_y": null,
       "padding": null,
       "right": null,
       "top": null,
       "visibility": null,
       "width": null
      }
     },
     "32bfbd1a78b34dc486d4a4dd454ec797": {
      "model_module": "@jupyter-widgets/controls",
      "model_module_version": "1.5.0",
      "model_name": "FloatProgressModel",
      "state": {
       "_dom_classes": [],
       "_model_module": "@jupyter-widgets/controls",
       "_model_module_version": "1.5.0",
       "_model_name": "FloatProgressModel",
       "_view_count": null,
       "_view_module": "@jupyter-widgets/controls",
       "_view_module_version": "1.5.0",
       "_view_name": "ProgressView",
       "bar_style": "success",
       "description": "",
       "description_tooltip": null,
       "layout": "IPY_MODEL_8e3d038cfe96433cadb44c4d8937fedb",
       "max": 871891.0,
       "min": 0.0,
       "orientation": "horizontal",
       "style": "IPY_MODEL_18b4dafaeea04923b070e3c539012618",
       "value": 871891.0
      }
     },
     "3a84bf6c7c7341c7a342fc8ee1305b53": {
      "model_module": "@jupyter-widgets/controls",
      "model_module_version": "1.5.0",
      "model_name": "HTMLModel",
      "state": {
       "_dom_classes": [],
       "_model_module": "@jupyter-widgets/controls",
       "_model_module_version": "1.5.0",
       "_model_name": "HTMLModel",
       "_view_count": null,
       "_view_module": "@jupyter-widgets/controls",
       "_view_module_version": "1.5.0",
       "_view_name": "HTMLView",
       "description": "",
       "description_tooltip": null,
       "layout": "IPY_MODEL_a9dc1903bbc54e3bb86452494005a1dd",
       "placeholder": "​",
       "style": "IPY_MODEL_73728bfab409481c9e38a21096db559b",
       "value": " 872k/872k [00:00&lt;00:00, 1.26MB/s]"
      }
     },
     "3b85bad1f158459e9f53fb474f339cc5": {
      "model_module": "@jupyter-widgets/base",
      "model_module_version": "1.2.0",
      "model_name": "LayoutModel",
      "state": {
       "_model_module": "@jupyter-widgets/base",
       "_model_module_version": "1.2.0",
       "_model_name": "LayoutModel",
       "_view_count": null,
       "_view_module": "@jupyter-widgets/base",
       "_view_module_version": "1.2.0",
       "_view_name": "LayoutView",
       "align_content": null,
       "align_items": null,
       "align_self": null,
       "border": null,
       "bottom": null,
       "display": null,
       "flex": null,
       "flex_flow": null,
       "grid_area": null,
       "grid_auto_columns": null,
       "grid_auto_flow": null,
       "grid_auto_rows": null,
       "grid_column": null,
       "grid_gap": null,
       "grid_row": null,
       "grid_template_areas": null,
       "grid_template_columns": null,
       "grid_template_rows": null,
       "height": null,
       "justify_content": null,
       "justify_items": null,
       "left": null,
       "margin": null,
       "max_height": null,
       "max_width": null,
       "min_height": null,
       "min_width": null,
       "object_fit": null,
       "object_position": null,
       "order": null,
       "overflow": null,
       "overflow_x": null,
       "overflow_y": null,
       "padding": null,
       "right": null,
       "top": null,
       "visibility": null,
       "width": null
      }
     },
     "4066771bd04946438cc07f4388aebe64": {
      "model_module": "@jupyter-widgets/controls",
      "model_module_version": "1.5.0",
      "model_name": "HBoxModel",
      "state": {
       "_dom_classes": [],
       "_model_module": "@jupyter-widgets/controls",
       "_model_module_version": "1.5.0",
       "_model_name": "HBoxModel",
       "_view_count": null,
       "_view_module": "@jupyter-widgets/controls",
       "_view_module_version": "1.5.0",
       "_view_name": "HBoxView",
       "box_style": "",
       "children": [
        "IPY_MODEL_03fb4c46d2f24fd6b9e92e7a198a2991",
        "IPY_MODEL_2daf02b95e714dc58f6b802c1ba63fca",
        "IPY_MODEL_9dce7cbc619e413c90f4d80704be702f"
       ],
       "layout": "IPY_MODEL_f60681c32c0a49da97a891ed1f76b485"
      }
     },
     "4069a82fa7ef4a6fa7382efa98bcba07": {
      "model_module": "@jupyter-widgets/controls",
      "model_module_version": "1.5.0",
      "model_name": "HTMLModel",
      "state": {
       "_dom_classes": [],
       "_model_module": "@jupyter-widgets/controls",
       "_model_module_version": "1.5.0",
       "_model_name": "HTMLModel",
       "_view_count": null,
       "_view_module": "@jupyter-widgets/controls",
       "_view_module_version": "1.5.0",
       "_view_name": "HTMLView",
       "description": "",
       "description_tooltip": null,
       "layout": "IPY_MODEL_d9786b9591b64aaf9e833df445310560",
       "placeholder": "​",
       "style": "IPY_MODEL_ce3c13daec8e462a8152f9c6793d8437",
       "value": "Downloading: 100%"
      }
     },
     "4d6ea239d9aa47aa8d62273cd4f80eca": {
      "model_module": "@jupyter-widgets/controls",
      "model_module_version": "1.5.0",
      "model_name": "ProgressStyleModel",
      "state": {
       "_model_module": "@jupyter-widgets/controls",
       "_model_module_version": "1.5.0",
       "_model_name": "ProgressStyleModel",
       "_view_count": null,
       "_view_module": "@jupyter-widgets/base",
       "_view_module_version": "1.2.0",
       "_view_name": "StyleView",
       "bar_color": null,
       "description_width": ""
      }
     },
     "51156489b3c64520b2ce0421f43c1d36": {
      "model_module": "@jupyter-widgets/base",
      "model_module_version": "1.2.0",
      "model_name": "LayoutModel",
      "state": {
       "_model_module": "@jupyter-widgets/base",
       "_model_module_version": "1.2.0",
       "_model_name": "LayoutModel",
       "_view_count": null,
       "_view_module": "@jupyter-widgets/base",
       "_view_module_version": "1.2.0",
       "_view_name": "LayoutView",
       "align_content": null,
       "align_items": null,
       "align_self": null,
       "border": null,
       "bottom": null,
       "display": null,
       "flex": null,
       "flex_flow": null,
       "grid_area": null,
       "grid_auto_columns": null,
       "grid_auto_flow": null,
       "grid_auto_rows": null,
       "grid_column": null,
       "grid_gap": null,
       "grid_row": null,
       "grid_template_areas": null,
       "grid_template_columns": null,
       "grid_template_rows": null,
       "height": null,
       "justify_content": null,
       "justify_items": null,
       "left": null,
       "margin": null,
       "max_height": null,
       "max_width": null,
       "min_height": null,
       "min_width": null,
       "object_fit": null,
       "object_position": null,
       "order": null,
       "overflow": null,
       "overflow_x": null,
       "overflow_y": null,
       "padding": null,
       "right": null,
       "top": null,
       "visibility": null,
       "width": null
      }
     },
     "533752571665439690afc799110f7369": {
      "model_module": "@jupyter-widgets/controls",
      "model_module_version": "1.5.0",
      "model_name": "DescriptionStyleModel",
      "state": {
       "_model_module": "@jupyter-widgets/controls",
       "_model_module_version": "1.5.0",
       "_model_name": "DescriptionStyleModel",
       "_view_count": null,
       "_view_module": "@jupyter-widgets/base",
       "_view_module_version": "1.2.0",
       "_view_name": "StyleView",
       "description_width": ""
      }
     },
     "56a67b07ef9c4218b25e2a262080f5d1": {
      "model_module": "@jupyter-widgets/controls",
      "model_module_version": "1.5.0",
      "model_name": "HTMLModel",
      "state": {
       "_dom_classes": [],
       "_model_module": "@jupyter-widgets/controls",
       "_model_module_version": "1.5.0",
       "_model_name": "HTMLModel",
       "_view_count": null,
       "_view_module": "@jupyter-widgets/controls",
       "_view_module_version": "1.5.0",
       "_view_name": "HTMLView",
       "description": "",
       "description_tooltip": null,
       "layout": "IPY_MODEL_fce4fd4245a44080b37e25396b9b7ca6",
       "placeholder": "​",
       "style": "IPY_MODEL_533752571665439690afc799110f7369",
       "value": " 1.72M/1.72M [00:00&lt;00:00, 2.17MB/s]"
      }
     },
     "65b13674f7334a4782b6a3fc13a8b868": {
      "model_module": "@jupyter-widgets/controls",
      "model_module_version": "1.5.0",
      "model_name": "DescriptionStyleModel",
      "state": {
       "_model_module": "@jupyter-widgets/controls",
       "_model_module_version": "1.5.0",
       "_model_name": "DescriptionStyleModel",
       "_view_count": null,
       "_view_module": "@jupyter-widgets/base",
       "_view_module_version": "1.2.0",
       "_view_name": "StyleView",
       "description_width": ""
      }
     },
     "6891959f3de74d6ebdaf0f380fc037f5": {
      "model_module": "@jupyter-widgets/controls",
      "model_module_version": "1.5.0",
      "model_name": "HBoxModel",
      "state": {
       "_dom_classes": [],
       "_model_module": "@jupyter-widgets/controls",
       "_model_module_version": "1.5.0",
       "_model_name": "HBoxModel",
       "_view_count": null,
       "_view_module": "@jupyter-widgets/controls",
       "_view_module_version": "1.5.0",
       "_view_name": "HBoxView",
       "box_style": "",
       "children": [
        "IPY_MODEL_7461ffefa7b242b597332b8389c947f0",
        "IPY_MODEL_2505675f1e7b431ba0440e3c8c53e4ea",
        "IPY_MODEL_56a67b07ef9c4218b25e2a262080f5d1"
       ],
       "layout": "IPY_MODEL_e62c0e9003924f0b8ab9b6d2ddfcf11f"
      }
     },
     "73728bfab409481c9e38a21096db559b": {
      "model_module": "@jupyter-widgets/controls",
      "model_module_version": "1.5.0",
      "model_name": "DescriptionStyleModel",
      "state": {
       "_model_module": "@jupyter-widgets/controls",
       "_model_module_version": "1.5.0",
       "_model_name": "DescriptionStyleModel",
       "_view_count": null,
       "_view_module": "@jupyter-widgets/base",
       "_view_module_version": "1.2.0",
       "_view_name": "StyleView",
       "description_width": ""
      }
     },
     "7461ffefa7b242b597332b8389c947f0": {
      "model_module": "@jupyter-widgets/controls",
      "model_module_version": "1.5.0",
      "model_name": "HTMLModel",
      "state": {
       "_dom_classes": [],
       "_model_module": "@jupyter-widgets/controls",
       "_model_module_version": "1.5.0",
       "_model_name": "HTMLModel",
       "_view_count": null,
       "_view_module": "@jupyter-widgets/controls",
       "_view_module_version": "1.5.0",
       "_view_name": "HTMLView",
       "description": "",
       "description_tooltip": null,
       "layout": "IPY_MODEL_9cdad7f814044922b4be9efb38c4bc2d",
       "placeholder": "​",
       "style": "IPY_MODEL_b28c502f33b64e18b94f973d67eb69bd",
       "value": "Downloading: 100%"
      }
     },
     "83c85e809e714264ba80e96f0af59929": {
      "model_module": "@jupyter-widgets/base",
      "model_module_version": "1.2.0",
      "model_name": "LayoutModel",
      "state": {
       "_model_module": "@jupyter-widgets/base",
       "_model_module_version": "1.2.0",
       "_model_name": "LayoutModel",
       "_view_count": null,
       "_view_module": "@jupyter-widgets/base",
       "_view_module_version": "1.2.0",
       "_view_name": "LayoutView",
       "align_content": null,
       "align_items": null,
       "align_self": null,
       "border": null,
       "bottom": null,
       "display": null,
       "flex": null,
       "flex_flow": null,
       "grid_area": null,
       "grid_auto_columns": null,
       "grid_auto_flow": null,
       "grid_auto_rows": null,
       "grid_column": null,
       "grid_gap": null,
       "grid_row": null,
       "grid_template_areas": null,
       "grid_template_columns": null,
       "grid_template_rows": null,
       "height": null,
       "justify_content": null,
       "justify_items": null,
       "left": null,
       "margin": null,
       "max_height": null,
       "max_width": null,
       "min_height": null,
       "min_width": null,
       "object_fit": null,
       "object_position": null,
       "order": null,
       "overflow": null,
       "overflow_x": null,
       "overflow_y": null,
       "padding": null,
       "right": null,
       "top": null,
       "visibility": null,
       "width": null
      }
     },
     "8dd14a9a2b2c4817bb12cb43f782ed5b": {
      "model_module": "@jupyter-widgets/controls",
      "model_module_version": "1.5.0",
      "model_name": "DescriptionStyleModel",
      "state": {
       "_model_module": "@jupyter-widgets/controls",
       "_model_module_version": "1.5.0",
       "_model_name": "DescriptionStyleModel",
       "_view_count": null,
       "_view_module": "@jupyter-widgets/base",
       "_view_module_version": "1.2.0",
       "_view_name": "StyleView",
       "description_width": ""
      }
     },
     "8e3d038cfe96433cadb44c4d8937fedb": {
      "model_module": "@jupyter-widgets/base",
      "model_module_version": "1.2.0",
      "model_name": "LayoutModel",
      "state": {
       "_model_module": "@jupyter-widgets/base",
       "_model_module_version": "1.2.0",
       "_model_name": "LayoutModel",
       "_view_count": null,
       "_view_module": "@jupyter-widgets/base",
       "_view_module_version": "1.2.0",
       "_view_name": "LayoutView",
       "align_content": null,
       "align_items": null,
       "align_self": null,
       "border": null,
       "bottom": null,
       "display": null,
       "flex": null,
       "flex_flow": null,
       "grid_area": null,
       "grid_auto_columns": null,
       "grid_auto_flow": null,
       "grid_auto_rows": null,
       "grid_column": null,
       "grid_gap": null,
       "grid_row": null,
       "grid_template_areas": null,
       "grid_template_columns": null,
       "grid_template_rows": null,
       "height": null,
       "justify_content": null,
       "justify_items": null,
       "left": null,
       "margin": null,
       "max_height": null,
       "max_width": null,
       "min_height": null,
       "min_width": null,
       "object_fit": null,
       "object_position": null,
       "order": null,
       "overflow": null,
       "overflow_x": null,
       "overflow_y": null,
       "padding": null,
       "right": null,
       "top": null,
       "visibility": null,
       "width": null
      }
     },
     "9c3bb50f2012473998f8ff83fcfa649b": {
      "model_module": "@jupyter-widgets/base",
      "model_module_version": "1.2.0",
      "model_name": "LayoutModel",
      "state": {
       "_model_module": "@jupyter-widgets/base",
       "_model_module_version": "1.2.0",
       "_model_name": "LayoutModel",
       "_view_count": null,
       "_view_module": "@jupyter-widgets/base",
       "_view_module_version": "1.2.0",
       "_view_name": "LayoutView",
       "align_content": null,
       "align_items": null,
       "align_self": null,
       "border": null,
       "bottom": null,
       "display": null,
       "flex": null,
       "flex_flow": null,
       "grid_area": null,
       "grid_auto_columns": null,
       "grid_auto_flow": null,
       "grid_auto_rows": null,
       "grid_column": null,
       "grid_gap": null,
       "grid_row": null,
       "grid_template_areas": null,
       "grid_template_columns": null,
       "grid_template_rows": null,
       "height": null,
       "justify_content": null,
       "justify_items": null,
       "left": null,
       "margin": null,
       "max_height": null,
       "max_width": null,
       "min_height": null,
       "min_width": null,
       "object_fit": null,
       "object_position": null,
       "order": null,
       "overflow": null,
       "overflow_x": null,
       "overflow_y": null,
       "padding": null,
       "right": null,
       "top": null,
       "visibility": null,
       "width": null
      }
     },
     "9cdad7f814044922b4be9efb38c4bc2d": {
      "model_module": "@jupyter-widgets/base",
      "model_module_version": "1.2.0",
      "model_name": "LayoutModel",
      "state": {
       "_model_module": "@jupyter-widgets/base",
       "_model_module_version": "1.2.0",
       "_model_name": "LayoutModel",
       "_view_count": null,
       "_view_module": "@jupyter-widgets/base",
       "_view_module_version": "1.2.0",
       "_view_name": "LayoutView",
       "align_content": null,
       "align_items": null,
       "align_self": null,
       "border": null,
       "bottom": null,
       "display": null,
       "flex": null,
       "flex_flow": null,
       "grid_area": null,
       "grid_auto_columns": null,
       "grid_auto_flow": null,
       "grid_auto_rows": null,
       "grid_column": null,
       "grid_gap": null,
       "grid_row": null,
       "grid_template_areas": null,
       "grid_template_columns": null,
       "grid_template_rows": null,
       "height": null,
       "justify_content": null,
       "justify_items": null,
       "left": null,
       "margin": null,
       "max_height": null,
       "max_width": null,
       "min_height": null,
       "min_width": null,
       "object_fit": null,
       "object_position": null,
       "order": null,
       "overflow": null,
       "overflow_x": null,
       "overflow_y": null,
       "padding": null,
       "right": null,
       "top": null,
       "visibility": null,
       "width": null
      }
     },
     "9dce7cbc619e413c90f4d80704be702f": {
      "model_module": "@jupyter-widgets/controls",
      "model_module_version": "1.5.0",
      "model_name": "HTMLModel",
      "state": {
       "_dom_classes": [],
       "_model_module": "@jupyter-widgets/controls",
       "_model_module_version": "1.5.0",
       "_model_name": "HTMLModel",
       "_view_count": null,
       "_view_module": "@jupyter-widgets/controls",
       "_view_module_version": "1.5.0",
       "_view_name": "HTMLView",
       "description": "",
       "description_tooltip": null,
       "layout": "IPY_MODEL_51156489b3c64520b2ce0421f43c1d36",
       "placeholder": "​",
       "style": "IPY_MODEL_c68de861217547ca841cd98a445328e6",
       "value": " 28.0/28.0 [00:00&lt;00:00, 1.11kB/s]"
      }
     },
     "a0a70d9ea3e84e09a88b2e616fcd9f25": {
      "model_module": "@jupyter-widgets/base",
      "model_module_version": "1.2.0",
      "model_name": "LayoutModel",
      "state": {
       "_model_module": "@jupyter-widgets/base",
       "_model_module_version": "1.2.0",
       "_model_name": "LayoutModel",
       "_view_count": null,
       "_view_module": "@jupyter-widgets/base",
       "_view_module_version": "1.2.0",
       "_view_name": "LayoutView",
       "align_content": null,
       "align_items": null,
       "align_self": null,
       "border": null,
       "bottom": null,
       "display": null,
       "flex": null,
       "flex_flow": null,
       "grid_area": null,
       "grid_auto_columns": null,
       "grid_auto_flow": null,
       "grid_auto_rows": null,
       "grid_column": null,
       "grid_gap": null,
       "grid_row": null,
       "grid_template_areas": null,
       "grid_template_columns": null,
       "grid_template_rows": null,
       "height": null,
       "justify_content": null,
       "justify_items": null,
       "left": null,
       "margin": null,
       "max_height": null,
       "max_width": null,
       "min_height": null,
       "min_width": null,
       "object_fit": null,
       "object_position": null,
       "order": null,
       "overflow": null,
       "overflow_x": null,
       "overflow_y": null,
       "padding": null,
       "right": null,
       "top": null,
       "visibility": null,
       "width": null
      }
     },
     "a5de88a1c98348b4ae0fb26c9d7a88e3": {
      "model_module": "@jupyter-widgets/controls",
      "model_module_version": "1.5.0",
      "model_name": "DescriptionStyleModel",
      "state": {
       "_model_module": "@jupyter-widgets/controls",
       "_model_module_version": "1.5.0",
       "_model_name": "DescriptionStyleModel",
       "_view_count": null,
       "_view_module": "@jupyter-widgets/base",
       "_view_module_version": "1.2.0",
       "_view_name": "StyleView",
       "description_width": ""
      }
     },
     "a9dc1903bbc54e3bb86452494005a1dd": {
      "model_module": "@jupyter-widgets/base",
      "model_module_version": "1.2.0",
      "model_name": "LayoutModel",
      "state": {
       "_model_module": "@jupyter-widgets/base",
       "_model_module_version": "1.2.0",
       "_model_name": "LayoutModel",
       "_view_count": null,
       "_view_module": "@jupyter-widgets/base",
       "_view_module_version": "1.2.0",
       "_view_name": "LayoutView",
       "align_content": null,
       "align_items": null,
       "align_self": null,
       "border": null,
       "bottom": null,
       "display": null,
       "flex": null,
       "flex_flow": null,
       "grid_area": null,
       "grid_auto_columns": null,
       "grid_auto_flow": null,
       "grid_auto_rows": null,
       "grid_column": null,
       "grid_gap": null,
       "grid_row": null,
       "grid_template_areas": null,
       "grid_template_columns": null,
       "grid_template_rows": null,
       "height": null,
       "justify_content": null,
       "justify_items": null,
       "left": null,
       "margin": null,
       "max_height": null,
       "max_width": null,
       "min_height": null,
       "min_width": null,
       "object_fit": null,
       "object_position": null,
       "order": null,
       "overflow": null,
       "overflow_x": null,
       "overflow_y": null,
       "padding": null,
       "right": null,
       "top": null,
       "visibility": null,
       "width": null
      }
     },
     "b28c502f33b64e18b94f973d67eb69bd": {
      "model_module": "@jupyter-widgets/controls",
      "model_module_version": "1.5.0",
      "model_name": "DescriptionStyleModel",
      "state": {
       "_model_module": "@jupyter-widgets/controls",
       "_model_module_version": "1.5.0",
       "_model_name": "DescriptionStyleModel",
       "_view_count": null,
       "_view_module": "@jupyter-widgets/base",
       "_view_module_version": "1.2.0",
       "_view_name": "StyleView",
       "description_width": ""
      }
     },
     "b4079982d3e046c9b94aaf586080a603": {
      "model_module": "@jupyter-widgets/base",
      "model_module_version": "1.2.0",
      "model_name": "LayoutModel",
      "state": {
       "_model_module": "@jupyter-widgets/base",
       "_model_module_version": "1.2.0",
       "_model_name": "LayoutModel",
       "_view_count": null,
       "_view_module": "@jupyter-widgets/base",
       "_view_module_version": "1.2.0",
       "_view_name": "LayoutView",
       "align_content": null,
       "align_items": null,
       "align_self": null,
       "border": null,
       "bottom": null,
       "display": null,
       "flex": null,
       "flex_flow": null,
       "grid_area": null,
       "grid_auto_columns": null,
       "grid_auto_flow": null,
       "grid_auto_rows": null,
       "grid_column": null,
       "grid_gap": null,
       "grid_row": null,
       "grid_template_areas": null,
       "grid_template_columns": null,
       "grid_template_rows": null,
       "height": null,
       "justify_content": null,
       "justify_items": null,
       "left": null,
       "margin": null,
       "max_height": null,
       "max_width": null,
       "min_height": null,
       "min_width": null,
       "object_fit": null,
       "object_position": null,
       "order": null,
       "overflow": null,
       "overflow_x": null,
       "overflow_y": null,
       "padding": null,
       "right": null,
       "top": null,
       "visibility": null,
       "width": null
      }
     },
     "c68de861217547ca841cd98a445328e6": {
      "model_module": "@jupyter-widgets/controls",
      "model_module_version": "1.5.0",
      "model_name": "DescriptionStyleModel",
      "state": {
       "_model_module": "@jupyter-widgets/controls",
       "_model_module_version": "1.5.0",
       "_model_name": "DescriptionStyleModel",
       "_view_count": null,
       "_view_module": "@jupyter-widgets/base",
       "_view_module_version": "1.2.0",
       "_view_name": "StyleView",
       "description_width": ""
      }
     },
     "c6f7d33407324b6c92eca6e2b8546010": {
      "model_module": "@jupyter-widgets/controls",
      "model_module_version": "1.5.0",
      "model_name": "DescriptionStyleModel",
      "state": {
       "_model_module": "@jupyter-widgets/controls",
       "_model_module_version": "1.5.0",
       "_model_name": "DescriptionStyleModel",
       "_view_count": null,
       "_view_module": "@jupyter-widgets/base",
       "_view_module_version": "1.2.0",
       "_view_name": "StyleView",
       "description_width": ""
      }
     },
     "cc08541377814a86b0144b71b2fed104": {
      "model_module": "@jupyter-widgets/controls",
      "model_module_version": "1.5.0",
      "model_name": "ProgressStyleModel",
      "state": {
       "_model_module": "@jupyter-widgets/controls",
       "_model_module_version": "1.5.0",
       "_model_name": "ProgressStyleModel",
       "_view_count": null,
       "_view_module": "@jupyter-widgets/base",
       "_view_module_version": "1.2.0",
       "_view_name": "StyleView",
       "bar_color": null,
       "description_width": ""
      }
     },
     "cc90953271f9458e8cded7015f7de359": {
      "model_module": "@jupyter-widgets/controls",
      "model_module_version": "1.5.0",
      "model_name": "DescriptionStyleModel",
      "state": {
       "_model_module": "@jupyter-widgets/controls",
       "_model_module_version": "1.5.0",
       "_model_name": "DescriptionStyleModel",
       "_view_count": null,
       "_view_module": "@jupyter-widgets/base",
       "_view_module_version": "1.2.0",
       "_view_name": "StyleView",
       "description_width": ""
      }
     },
     "ce3c13daec8e462a8152f9c6793d8437": {
      "model_module": "@jupyter-widgets/controls",
      "model_module_version": "1.5.0",
      "model_name": "DescriptionStyleModel",
      "state": {
       "_model_module": "@jupyter-widgets/controls",
       "_model_module_version": "1.5.0",
       "_model_name": "DescriptionStyleModel",
       "_view_count": null,
       "_view_module": "@jupyter-widgets/base",
       "_view_module_version": "1.2.0",
       "_view_name": "StyleView",
       "description_width": ""
      }
     },
     "d55d2820a03e4e5683b1daddcd7fa2de": {
      "model_module": "@jupyter-widgets/controls",
      "model_module_version": "1.5.0",
      "model_name": "ProgressStyleModel",
      "state": {
       "_model_module": "@jupyter-widgets/controls",
       "_model_module_version": "1.5.0",
       "_model_name": "ProgressStyleModel",
       "_view_count": null,
       "_view_module": "@jupyter-widgets/base",
       "_view_module_version": "1.2.0",
       "_view_name": "StyleView",
       "bar_color": null,
       "description_width": ""
      }
     },
     "d71e055d510f4a7fad0839f2c43ded83": {
      "model_module": "@jupyter-widgets/controls",
      "model_module_version": "1.5.0",
      "model_name": "HTMLModel",
      "state": {
       "_dom_classes": [],
       "_model_module": "@jupyter-widgets/controls",
       "_model_module_version": "1.5.0",
       "_model_name": "HTMLModel",
       "_view_count": null,
       "_view_module": "@jupyter-widgets/controls",
       "_view_module_version": "1.5.0",
       "_view_name": "HTMLView",
       "description": "",
       "description_tooltip": null,
       "layout": "IPY_MODEL_d76f5f58f78547d88b4f145192211862",
       "placeholder": "​",
       "style": "IPY_MODEL_cc90953271f9458e8cded7015f7de359",
       "value": " 625/625 [00:00&lt;00:00, 25.2kB/s]"
      }
     },
     "d76f5f58f78547d88b4f145192211862": {
      "model_module": "@jupyter-widgets/base",
      "model_module_version": "1.2.0",
      "model_name": "LayoutModel",
      "state": {
       "_model_module": "@jupyter-widgets/base",
       "_model_module_version": "1.2.0",
       "_model_name": "LayoutModel",
       "_view_count": null,
       "_view_module": "@jupyter-widgets/base",
       "_view_module_version": "1.2.0",
       "_view_name": "LayoutView",
       "align_content": null,
       "align_items": null,
       "align_self": null,
       "border": null,
       "bottom": null,
       "display": null,
       "flex": null,
       "flex_flow": null,
       "grid_area": null,
       "grid_auto_columns": null,
       "grid_auto_flow": null,
       "grid_auto_rows": null,
       "grid_column": null,
       "grid_gap": null,
       "grid_row": null,
       "grid_template_areas": null,
       "grid_template_columns": null,
       "grid_template_rows": null,
       "height": null,
       "justify_content": null,
       "justify_items": null,
       "left": null,
       "margin": null,
       "max_height": null,
       "max_width": null,
       "min_height": null,
       "min_width": null,
       "object_fit": null,
       "object_position": null,
       "order": null,
       "overflow": null,
       "overflow_x": null,
       "overflow_y": null,
       "padding": null,
       "right": null,
       "top": null,
       "visibility": null,
       "width": null
      }
     },
     "d7f0d44d9baa4883a90f70861451c485": {
      "model_module": "@jupyter-widgets/controls",
      "model_module_version": "1.5.0",
      "model_name": "HTMLModel",
      "state": {
       "_dom_classes": [],
       "_model_module": "@jupyter-widgets/controls",
       "_model_module_version": "1.5.0",
       "_model_name": "HTMLModel",
       "_view_count": null,
       "_view_module": "@jupyter-widgets/controls",
       "_view_module_version": "1.5.0",
       "_view_name": "HTMLView",
       "description": "",
       "description_tooltip": null,
       "layout": "IPY_MODEL_9c3bb50f2012473998f8ff83fcfa649b",
       "placeholder": "​",
       "style": "IPY_MODEL_a5de88a1c98348b4ae0fb26c9d7a88e3",
       "value": "Downloading: 100%"
      }
     },
     "d8e3267363db4bc2bf9ef97077bf4995": {
      "model_module": "@jupyter-widgets/controls",
      "model_module_version": "1.5.0",
      "model_name": "FloatProgressModel",
      "state": {
       "_dom_classes": [],
       "_model_module": "@jupyter-widgets/controls",
       "_model_module_version": "1.5.0",
       "_model_name": "FloatProgressModel",
       "_view_count": null,
       "_view_module": "@jupyter-widgets/controls",
       "_view_module_version": "1.5.0",
       "_view_name": "ProgressView",
       "bar_style": "success",
       "description": "",
       "description_tooltip": null,
       "layout": "IPY_MODEL_23e30153528c4b788e939548833c46f1",
       "max": 999358484.0,
       "min": 0.0,
       "orientation": "horizontal",
       "style": "IPY_MODEL_cc08541377814a86b0144b71b2fed104",
       "value": 999358484.0
      }
     },
     "d9786b9591b64aaf9e833df445310560": {
      "model_module": "@jupyter-widgets/base",
      "model_module_version": "1.2.0",
      "model_name": "LayoutModel",
      "state": {
       "_model_module": "@jupyter-widgets/base",
       "_model_module_version": "1.2.0",
       "_model_name": "LayoutModel",
       "_view_count": null,
       "_view_module": "@jupyter-widgets/base",
       "_view_module_version": "1.2.0",
       "_view_name": "LayoutView",
       "align_content": null,
       "align_items": null,
       "align_self": null,
       "border": null,
       "bottom": null,
       "display": null,
       "flex": null,
       "flex_flow": null,
       "grid_area": null,
       "grid_auto_columns": null,
       "grid_auto_flow": null,
       "grid_auto_rows": null,
       "grid_column": null,
       "grid_gap": null,
       "grid_row": null,
       "grid_template_areas": null,
       "grid_template_columns": null,
       "grid_template_rows": null,
       "height": null,
       "justify_content": null,
       "justify_items": null,
       "left": null,
       "margin": null,
       "max_height": null,
       "max_width": null,
       "min_height": null,
       "min_width": null,
       "object_fit": null,
       "object_position": null,
       "order": null,
       "overflow": null,
       "overflow_x": null,
       "overflow_y": null,
       "padding": null,
       "right": null,
       "top": null,
       "visibility": null,
       "width": null
      }
     },
     "e62c0e9003924f0b8ab9b6d2ddfcf11f": {
      "model_module": "@jupyter-widgets/base",
      "model_module_version": "1.2.0",
      "model_name": "LayoutModel",
      "state": {
       "_model_module": "@jupyter-widgets/base",
       "_model_module_version": "1.2.0",
       "_model_name": "LayoutModel",
       "_view_count": null,
       "_view_module": "@jupyter-widgets/base",
       "_view_module_version": "1.2.0",
       "_view_name": "LayoutView",
       "align_content": null,
       "align_items": null,
       "align_self": null,
       "border": null,
       "bottom": null,
       "display": null,
       "flex": null,
       "flex_flow": null,
       "grid_area": null,
       "grid_auto_columns": null,
       "grid_auto_flow": null,
       "grid_auto_rows": null,
       "grid_column": null,
       "grid_gap": null,
       "grid_row": null,
       "grid_template_areas": null,
       "grid_template_columns": null,
       "grid_template_rows": null,
       "height": null,
       "justify_content": null,
       "justify_items": null,
       "left": null,
       "margin": null,
       "max_height": null,
       "max_width": null,
       "min_height": null,
       "min_width": null,
       "object_fit": null,
       "object_position": null,
       "order": null,
       "overflow": null,
       "overflow_x": null,
       "overflow_y": null,
       "padding": null,
       "right": null,
       "top": null,
       "visibility": null,
       "width": null
      }
     },
     "ea5805eea6724f87af80c33862f0a7e8": {
      "model_module": "@jupyter-widgets/controls",
      "model_module_version": "1.5.0",
      "model_name": "HBoxModel",
      "state": {
       "_dom_classes": [],
       "_model_module": "@jupyter-widgets/controls",
       "_model_module_version": "1.5.0",
       "_model_name": "HBoxModel",
       "_view_count": null,
       "_view_module": "@jupyter-widgets/controls",
       "_view_module_version": "1.5.0",
       "_view_name": "HBoxView",
       "box_style": "",
       "children": [
        "IPY_MODEL_4069a82fa7ef4a6fa7382efa98bcba07",
        "IPY_MODEL_d8e3267363db4bc2bf9ef97077bf4995",
        "IPY_MODEL_0cdc22750a334b5e84a93750cc9e476a"
       ],
       "layout": "IPY_MODEL_edd0576cd567425e88f8f68376f93577"
      }
     },
     "edd0576cd567425e88f8f68376f93577": {
      "model_module": "@jupyter-widgets/base",
      "model_module_version": "1.2.0",
      "model_name": "LayoutModel",
      "state": {
       "_model_module": "@jupyter-widgets/base",
       "_model_module_version": "1.2.0",
       "_model_name": "LayoutModel",
       "_view_count": null,
       "_view_module": "@jupyter-widgets/base",
       "_view_module_version": "1.2.0",
       "_view_name": "LayoutView",
       "align_content": null,
       "align_items": null,
       "align_self": null,
       "border": null,
       "bottom": null,
       "display": null,
       "flex": null,
       "flex_flow": null,
       "grid_area": null,
       "grid_auto_columns": null,
       "grid_auto_flow": null,
       "grid_auto_rows": null,
       "grid_column": null,
       "grid_gap": null,
       "grid_row": null,
       "grid_template_areas": null,
       "grid_template_columns": null,
       "grid_template_rows": null,
       "height": null,
       "justify_content": null,
       "justify_items": null,
       "left": null,
       "margin": null,
       "max_height": null,
       "max_width": null,
       "min_height": null,
       "min_width": null,
       "object_fit": null,
       "object_position": null,
       "order": null,
       "overflow": null,
       "overflow_x": null,
       "overflow_y": null,
       "padding": null,
       "right": null,
       "top": null,
       "visibility": null,
       "width": null
      }
     },
     "f60681c32c0a49da97a891ed1f76b485": {
      "model_module": "@jupyter-widgets/base",
      "model_module_version": "1.2.0",
      "model_name": "LayoutModel",
      "state": {
       "_model_module": "@jupyter-widgets/base",
       "_model_module_version": "1.2.0",
       "_model_name": "LayoutModel",
       "_view_count": null,
       "_view_module": "@jupyter-widgets/base",
       "_view_module_version": "1.2.0",
       "_view_name": "LayoutView",
       "align_content": null,
       "align_items": null,
       "align_self": null,
       "border": null,
       "bottom": null,
       "display": null,
       "flex": null,
       "flex_flow": null,
       "grid_area": null,
       "grid_auto_columns": null,
       "grid_auto_flow": null,
       "grid_auto_rows": null,
       "grid_column": null,
       "grid_gap": null,
       "grid_row": null,
       "grid_template_areas": null,
       "grid_template_columns": null,
       "grid_template_rows": null,
       "height": null,
       "justify_content": null,
       "justify_items": null,
       "left": null,
       "margin": null,
       "max_height": null,
       "max_width": null,
       "min_height": null,
       "min_width": null,
       "object_fit": null,
       "object_position": null,
       "order": null,
       "overflow": null,
       "overflow_x": null,
       "overflow_y": null,
       "padding": null,
       "right": null,
       "top": null,
       "visibility": null,
       "width": null
      }
     },
     "fc89e8fb092b4f7e98e260df9e4223a3": {
      "model_module": "@jupyter-widgets/controls",
      "model_module_version": "1.5.0",
      "model_name": "HBoxModel",
      "state": {
       "_dom_classes": [],
       "_model_module": "@jupyter-widgets/controls",
       "_model_module_version": "1.5.0",
       "_model_name": "HBoxModel",
       "_view_count": null,
       "_view_module": "@jupyter-widgets/controls",
       "_view_module_version": "1.5.0",
       "_view_name": "HBoxView",
       "box_style": "",
       "children": [
        "IPY_MODEL_26b652b2f2654ff3857fc5bab575fcbb",
        "IPY_MODEL_1ec70a417f6a4d6689936b1ca834f7b0",
        "IPY_MODEL_d71e055d510f4a7fad0839f2c43ded83"
       ],
       "layout": "IPY_MODEL_83c85e809e714264ba80e96f0af59929"
      }
     },
     "fce4fd4245a44080b37e25396b9b7ca6": {
      "model_module": "@jupyter-widgets/base",
      "model_module_version": "1.2.0",
      "model_name": "LayoutModel",
      "state": {
       "_model_module": "@jupyter-widgets/base",
       "_model_module_version": "1.2.0",
       "_model_name": "LayoutModel",
       "_view_count": null,
       "_view_module": "@jupyter-widgets/base",
       "_view_module_version": "1.2.0",
       "_view_name": "LayoutView",
       "align_content": null,
       "align_items": null,
       "align_self": null,
       "border": null,
       "bottom": null,
       "display": null,
       "flex": null,
       "flex_flow": null,
       "grid_area": null,
       "grid_auto_columns": null,
       "grid_auto_flow": null,
       "grid_auto_rows": null,
       "grid_column": null,
       "grid_gap": null,
       "grid_row": null,
       "grid_template_areas": null,
       "grid_template_columns": null,
       "grid_template_rows": null,
       "height": null,
       "justify_content": null,
       "justify_items": null,
       "left": null,
       "margin": null,
       "max_height": null,
       "max_width": null,
       "min_height": null,
       "min_width": null,
       "object_fit": null,
       "object_position": null,
       "order": null,
       "overflow": null,
       "overflow_x": null,
       "overflow_y": null,
       "padding": null,
       "right": null,
       "top": null,
       "visibility": null,
       "width": null
      }
     },
     "fdf92bb751444ec6aee2afc855fc508d": {
      "model_module": "@jupyter-widgets/controls",
      "model_module_version": "1.5.0",
      "model_name": "ProgressStyleModel",
      "state": {
       "_model_module": "@jupyter-widgets/controls",
       "_model_module_version": "1.5.0",
       "_model_name": "ProgressStyleModel",
       "_view_count": null,
       "_view_module": "@jupyter-widgets/base",
       "_view_module_version": "1.2.0",
       "_view_name": "StyleView",
       "bar_color": null,
       "description_width": ""
      }
     },
     "ffadc32decf94a6593ce4f17d3829bf0": {
      "model_module": "@jupyter-widgets/base",
      "model_module_version": "1.2.0",
      "model_name": "LayoutModel",
      "state": {
       "_model_module": "@jupyter-widgets/base",
       "_model_module_version": "1.2.0",
       "_model_name": "LayoutModel",
       "_view_count": null,
       "_view_module": "@jupyter-widgets/base",
       "_view_module_version": "1.2.0",
       "_view_name": "LayoutView",
       "align_content": null,
       "align_items": null,
       "align_self": null,
       "border": null,
       "bottom": null,
       "display": null,
       "flex": null,
       "flex_flow": null,
       "grid_area": null,
       "grid_auto_columns": null,
       "grid_auto_flow": null,
       "grid_auto_rows": null,
       "grid_column": null,
       "grid_gap": null,
       "grid_row": null,
       "grid_template_areas": null,
       "grid_template_columns": null,
       "grid_template_rows": null,
       "height": null,
       "justify_content": null,
       "justify_items": null,
       "left": null,
       "margin": null,
       "max_height": null,
       "max_width": null,
       "min_height": null,
       "min_width": null,
       "object_fit": null,
       "object_position": null,
       "order": null,
       "overflow": null,
       "overflow_x": null,
       "overflow_y": null,
       "padding": null,
       "right": null,
       "top": null,
       "visibility": null,
       "width": null
      }
     }
    },
    "version_major": 2,
    "version_minor": 0
   }
  }
 },
 "nbformat": 4,
 "nbformat_minor": 5
}
